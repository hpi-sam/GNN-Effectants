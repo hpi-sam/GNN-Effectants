{
  "cells": [
    {
      "cell_type": "markdown",
      "metadata": {
        "id": "yl2M7ENr5VO9"
      },
      "source": [
        "# Exploring GraphSAGE link prediction model for drug-drug interactions"
      ]
    },
    {
      "cell_type": "markdown",
      "metadata": {
        "id": "ZncUL_LS5VPG"
      },
      "source": [
        "## Loading the Drug-Drug network data"
      ]
    },
    {
      "cell_type": "code",
      "execution_count": null,
      "metadata": {
        "colab": {
          "base_uri": "https://localhost:8080/"
        },
        "id": "ad2txEsa5VPH",
        "nbsphinx": "hidden",
        "outputId": "280eaa4a-bbaa-40c7-9ebf-cc65b5488f91",
        "tags": [
          "CloudRunner"
        ]
      },
      "outputs": [
        {
          "name": "stdout",
          "output_type": "stream",
          "text": [
            "\u001b[K     |████████████████████████████████| 440kB 7.6MB/s \n",
            "\u001b[K     |████████████████████████████████| 235kB 14.7MB/s \n",
            "\u001b[K     |████████████████████████████████| 51kB 5.8MB/s \n",
            "\u001b[?25h  Building wheel for mplleaflet (setup.py) ... \u001b[?25l\u001b[?25hdone\n"
          ]
        }
      ],
      "source": [
        "# install StellarGraph if running on Google Colab\n",
        "import sys\n",
        "if 'google.colab' in sys.modules:\n",
        "  %pip install -q stellargraph[demos]==1.2.1"
      ]
    },
    {
      "cell_type": "code",
      "execution_count": null,
      "metadata": {
        "id": "lcHCKlGz5VPI",
        "nbsphinx": "hidden",
        "tags": [
          "VersionCheck"
        ]
      },
      "outputs": [],
      "source": [
        "# verify that we're using the correct version of StellarGraph for this notebook\n",
        "import stellargraph as sg\n",
        "\n",
        "try:\n",
        "    sg.utils.validate_notebook_version(\"1.2.1\")\n",
        "except AttributeError:\n",
        "    raise ValueError(\n",
        "        f\"This notebook requires StellarGraph version 1.2.1, but a different version {sg.__version__} is installed.  Please see <https://github.com/stellargraph/stellargraph/issues/1172>.\"\n",
        "    ) from None"
      ]
    },
    {
      "cell_type": "code",
      "execution_count": null,
      "metadata": {
        "id": "1CKQvaHk5VPI"
      },
      "outputs": [],
      "source": [
        "import networkx as nx\n",
        "import pandas as pd\n",
        "import numpy as np\n",
        "import itertools\n",
        "import os\n",
        "\n",
        "import matplotlib.pyplot as plt\n",
        "\n",
        "import stellargraph as sg\n",
        "from stellargraph import StellarGraph\n",
        "from stellargraph.data import EdgeSplitter\n",
        "from stellargraph.mapper import GraphSAGELinkGenerator\n",
        "from stellargraph.layer import GraphSAGE, link_classification\n",
        "from stellargraph.calibration import expected_calibration_error, plot_reliability_diagram\n",
        "from stellargraph.calibration import IsotonicCalibration, TemperatureCalibration\n",
        "\n",
        "from tensorflow import keras\n",
        "from sklearn import preprocessing, feature_extraction, model_selection\n",
        "from sklearn.calibration import calibration_curve\n",
        "from sklearn.isotonic import IsotonicRegression\n",
        "\n",
        "from sklearn.metrics import accuracy_score\n",
        "\n",
        "from stellargraph import globalvar\n",
        "from stellargraph import datasets\n",
        "from IPython.display import display, HTML\n",
        "\n",
        "%matplotlib inline"
      ]
    },
    {
      "cell_type": "markdown",
      "metadata": {
        "id": "vxK2rOHh5VPJ"
      },
      "source": [
        "## Global parameters\n",
        "Specify the minibatch size (number of node pairs per minibatch) and the number of epochs for training the model:"
      ]
    },
    {
      "cell_type": "code",
      "execution_count": null,
      "metadata": {
        "id": "HgsMGbMl5VPJ",
        "tags": [
          "parameters"
        ]
      },
      "outputs": [],
      "source": [
        "batch_size = 50\n",
        "epochs = 20  # The number of training epochs for training the GraphSAGE model.\n",
        "\n",
        "# train, test, validation split\n",
        "train_size = 0.2\n",
        "test_size = 0.15\n",
        "val_size = 0.2"
      ]
    },
    {
      "cell_type": "markdown",
      "metadata": {
        "id": "qDXO18zQ5VPK"
      },
      "source": [
        "## Loading the Drug-Drug network data"
      ]
    },
    {
      "cell_type": "code",
      "execution_count": null,
      "metadata": {
        "colab": {
          "base_uri": "https://localhost:8080/"
        },
        "id": "HrhbI8665VPK",
        "outputId": "dbecb500-76af-4d6f-8628-e81bd8ecb76d",
        "tags": [
          "DataLoading"
        ]
      },
      "outputs": [
        {
          "name": "stdout",
          "output_type": "stream",
          "text": [
            "Mounted at /content/drive/\n"
          ]
        }
      ],
      "source": [
        "from google.colab import drive\n",
        "drive.mount('/content/drive/')\n",
        "\n",
        "!mkdir ./Effectants/\n",
        "!cp -r \"drive/My Drive/GNN/GNN\" ./Effectants/"
      ]
    },
    {
      "cell_type": "code",
      "execution_count": null,
      "metadata": {
        "colab": {
          "base_uri": "https://localhost:8080/"
        },
        "id": "hJ3t7xommqpw",
        "outputId": "c6297def-4f95-4d0f-d730-598b24e5ef91"
      },
      "outputs": [
        {
          "name": "stdout",
          "output_type": "stream",
          "text": [
            "filtered_dataframe_top50.csv\n",
            "full_drug_graph_cleaned_100.pkl\n",
            "full_drug_graph_cleaned_50.pkl\n",
            "full_drug_graph_cleaned_with_node_features_top100.pkl\n",
            "full_drug_graph_cleaned_with_node_features_top50.pkl\n",
            "full_drug_graph.pkl\n",
            "\u001b[0m\u001b[01;34mGNN\u001b[0m/\n"
          ]
        }
      ],
      "source": [
        "ls Effectants/GNN/"
      ]
    },
    {
      "cell_type": "code",
      "execution_count": null,
      "metadata": {
        "id": "OeJZryaSAGuC"
      },
      "outputs": [],
      "source": [
        "full_drug_graph = nx.read_gpickle(\"Effectants/GNN/full_drug_graph_cleaned_with_node_features_top50.pkl\")\n",
        "\n",
        "G = StellarGraph.from_networkx(full_drug_graph, node_features='v')"
      ]
    },
    {
      "cell_type": "code",
      "execution_count": null,
      "metadata": {
        "colab": {
          "base_uri": "https://localhost:8080/"
        },
        "id": "D5r9ju_S5VPM",
        "outputId": "af9789fc-5e6b-4f03-8be2-81608bd1c9c3"
      },
      "outputs": [
        {
          "name": "stdout",
          "output_type": "stream",
          "text": [
            "StellarGraph: Undirected multigraph\n",
            " Nodes: 645, Edges: 975517\n",
            "\n",
            " Node types:\n",
            "  default: [645]\n",
            "    Features: float32 vector, length 10829\n",
            "    Edge types: default-test_104->default, default-test_122->default, default-test_127->default, default-test_130->default, default-test_134->default, ... (45 more)\n",
            "\n",
            " Edge types:\n",
            "    default-test_51->default: [28568]\n",
            "        Weights: all 1 (default)\n",
            "        Features: none\n",
            "    default-test_74->default: [27006]\n",
            "        Weights: all 1 (default)\n",
            "        Features: none\n",
            "    default-test_29->default: [26037]\n",
            "        Weights: all 1 (default)\n",
            "        Features: none\n",
            "    default-test_361->default: [25190]\n",
            "        Weights: all 1 (default)\n",
            "        Features: none\n",
            "    default-test_68->default: [24430]\n",
            "        Weights: all 1 (default)\n",
            "        Features: none\n",
            "    default-test_127->default: [24260]\n",
            "        Weights: all 1 (default)\n",
            "        Features: none\n",
            "    default-test_104->default: [23894]\n",
            "        Weights: all 1 (default)\n",
            "        Features: none\n",
            "    default-test_130->default: [23848]\n",
            "        Weights: all 1 (default)\n",
            "        Features: none\n",
            "    default-test_207->default: [23515]\n",
            "        Weights: all 1 (default)\n",
            "        Features: none\n",
            "    default-test_208->default: [23043]\n",
            "        Weights: all 1 (default)\n",
            "        Features: none\n",
            "    default-test_307->default: [21981]\n",
            "        Weights: all 1 (default)\n",
            "        Features: none\n",
            "    default-test_330->default: [21806]\n",
            "        Weights: all 1 (default)\n",
            "        Features: none\n",
            "    default-test_234->default: [21781]\n",
            "        Weights: all 1 (default)\n",
            "        Features: none\n",
            "    default-test_178->default: [21410]\n",
            "        Weights: all 1 (default)\n",
            "        Features: none\n",
            "    default-test_59->default: [21322]\n",
            "        Weights: all 1 (default)\n",
            "        Features: none\n",
            "    default-test_179->default: [21013]\n",
            "        Weights: all 1 (default)\n",
            "        Features: none\n",
            "    default-test_122->default: [20204]\n",
            "        Weights: all 1 (default)\n",
            "        Features: none\n",
            "    default-test_4->default: [19930]\n",
            "        Weights: all 1 (default)\n",
            "        Features: none\n",
            "    default-test_83->default: [19803]\n",
            "        Weights: all 1 (default)\n",
            "        Features: none\n",
            "    default-test_226->default: [19376]\n",
            "        Weights: all 1 (default)\n",
            "        Features: none\n",
            "    ... (30 more)\n"
          ]
        }
      ],
      "source": [
        "print(G.info())"
      ]
    },
    {
      "cell_type": "markdown",
      "metadata": {
        "id": "bdokdOvP5VPN"
      },
      "source": [
        "From the original graph G, extract a randomly sampled subset of validation edges (true and false citation links) and the reduced graph G_test with the positive test edges removed:"
      ]
    },
    {
      "cell_type": "code",
      "execution_count": null,
      "metadata": {
        "colab": {
          "base_uri": "https://localhost:8080/"
        },
        "id": "bALiDkCl5VPO",
        "outputId": "6ec97339-9bf1-4395-98c8-724ace4f9759"
      },
      "outputs": [
        {
          "name": "stdout",
          "output_type": "stream",
          "text": [
            "Network has 28568 edges of type test_51\n",
            "Network has 28568 edges of type test_51\n",
            "** Sampled 4285 positive and 4285 negative edges. **\n"
          ]
        }
      ],
      "source": [
        "# Define an edge splitter on the original graph G:\n",
        "edge_splitter_test = EdgeSplitter(G)\n",
        "\n",
        "# Randomly sample a fraction p=0.1 of all positive links, and same number of negative links, from G, and obtain the\n",
        "# reduced graph G_test with the sampled links removed:\n",
        "G_test, edge_ids_test, edge_labels_test = edge_splitter_test.train_test_split(\n",
        "    p=test_size, method=\"global\", keep_connected=True, edge_label=\"test_51\"\n",
        ")"
      ]
    },
    {
      "cell_type": "markdown",
      "metadata": {
        "id": "Eo6FL8Pf5VPO"
      },
      "source": [
        "The reduced graph G_test, together with the test ground truth set of links (edge_ids_test, edge_labels_test), will be used for testing the model.\n",
        "\n",
        "Now repeat this procedure to obtain the validation data for the model. From the reduced graph G_test, extract a randomly sampled subset of validation edges (true and false citation links) and the reduced graph G_val with the positive train edges removed:"
      ]
    },
    {
      "cell_type": "code",
      "execution_count": null,
      "metadata": {
        "colab": {
          "base_uri": "https://localhost:8080/"
        },
        "id": "bMq1ZKPf5VPP",
        "outputId": "51c08da7-c0d6-474d-e1e1-b2d6a569bfd9"
      },
      "outputs": [
        {
          "name": "stdout",
          "output_type": "stream",
          "text": [
            "Network has 24283 edges of type test_51\n",
            "Network has 24283 edges of type test_51\n",
            "** Sampled 4856 positive and 4856 negative edges. **\n"
          ]
        }
      ],
      "source": [
        "# Define an edge splitter on the reduced graph G_test:\n",
        "edge_splitter_val = EdgeSplitter(G_test)\n",
        "\n",
        "# Randomly sample a fraction p=0.1 of all positive links, and same number of negative links, from G_test, and obtain the\n",
        "# reduced graph G_train with the sampled links removed:\n",
        "G_val, edge_ids_val, edge_labels_val = edge_splitter_val.train_test_split(\n",
        "    p=val_size, method=\"global\", keep_connected=True, edge_label=\"test_51\"\n",
        ")"
      ]
    },
    {
      "cell_type": "markdown",
      "metadata": {
        "id": "SOk71Yin5VPP"
      },
      "source": [
        "The reduced graph G_val, together with the validation ground truth set of links (edge_ids_val, edge_labels_val), will be used for validating the model (can also be used to tune the model parameters).\n",
        "\n",
        "Now repeat this procedure to obtain the training data for the model. From the reduced graph G_val, extract a randomly sampled subset of train edges (true and false citation links) and the reduced graph G_train with the positive train edges removed:"
      ]
    },
    {
      "cell_type": "code",
      "execution_count": null,
      "metadata": {
        "colab": {
          "base_uri": "https://localhost:8080/"
        },
        "id": "rA09yJWS5VPQ",
        "outputId": "a27675b6-a1d3-443a-ae8f-b16320752f41"
      },
      "outputs": [
        {
          "name": "stdout",
          "output_type": "stream",
          "text": [
            "Network has 19427 edges of type test_51\n",
            "Network has 19427 edges of type test_51\n",
            "** Sampled 3885 positive and 3885 negative edges. **\n"
          ]
        }
      ],
      "source": [
        "# Define an edge splitter on the reduced graph G_test:\n",
        "edge_splitter_train = EdgeSplitter(G_val)\n",
        "\n",
        "# Randomly sample a fraction p=0.1 of all positive links, and same number of negative links, from G_test, and obtain the\n",
        "# reduced graph G_train with the sampled links removed:\n",
        "G_train, edge_ids_train, edge_labels_train = edge_splitter_train.train_test_split(\n",
        "    p=train_size, method=\"global\", keep_connected=True, edge_label=\"test_51\"\n",
        ")"
      ]
    },
    {
      "cell_type": "markdown",
      "metadata": {
        "id": "K_NeigZP5VPQ"
      },
      "source": [
        "G_train, together with the train ground truth set of links (edge_ids_train, edge_labels_train), will be used for training the model."
      ]
    },
    {
      "cell_type": "markdown",
      "metadata": {
        "id": "Ytk-K3qg5VPR"
      },
      "source": [
        "Summary of G_train, G_val and G_test - note that they have the same set of nodes, only differing in their edge sets:"
      ]
    },
    {
      "cell_type": "code",
      "execution_count": null,
      "metadata": {
        "colab": {
          "base_uri": "https://localhost:8080/"
        },
        "id": "agXKw48f5VPR",
        "outputId": "0f43e625-2c11-41c9-bc0b-22b99055253e"
      },
      "outputs": [
        {
          "name": "stdout",
          "output_type": "stream",
          "text": [
            "StellarGraph: Undirected multigraph\n",
            " Nodes: 645, Edges: 962491\n",
            "\n",
            " Node types:\n",
            "  default: [645]\n",
            "    Features: float32 vector, length 10829\n",
            "    Edge types: default-test_104->default, default-test_122->default, default-test_127->default, default-test_130->default, default-test_134->default, ... (45 more)\n",
            "\n",
            " Edge types:\n",
            "    default-test_74->default: [27006]\n",
            "        Weights: all 1 (default)\n",
            "        Features: none\n",
            "    default-test_29->default: [26037]\n",
            "        Weights: all 1 (default)\n",
            "        Features: none\n",
            "    default-test_361->default: [25190]\n",
            "        Weights: all 1 (default)\n",
            "        Features: none\n",
            "    default-test_68->default: [24430]\n",
            "        Weights: all 1 (default)\n",
            "        Features: none\n",
            "    default-test_127->default: [24260]\n",
            "        Weights: all 1 (default)\n",
            "        Features: none\n",
            "    default-test_104->default: [23894]\n",
            "        Weights: all 1 (default)\n",
            "        Features: none\n",
            "    default-test_130->default: [23848]\n",
            "        Weights: all 1 (default)\n",
            "        Features: none\n",
            "    default-test_207->default: [23515]\n",
            "        Weights: all 1 (default)\n",
            "        Features: none\n",
            "    default-test_208->default: [23043]\n",
            "        Weights: all 1 (default)\n",
            "        Features: none\n",
            "    default-test_307->default: [21981]\n",
            "        Weights: all 1 (default)\n",
            "        Features: none\n",
            "    default-test_330->default: [21806]\n",
            "        Weights: all 1 (default)\n",
            "        Features: none\n",
            "    default-test_234->default: [21781]\n",
            "        Weights: all 1 (default)\n",
            "        Features: none\n",
            "    default-test_178->default: [21410]\n",
            "        Weights: all 1 (default)\n",
            "        Features: none\n",
            "    default-test_59->default: [21322]\n",
            "        Weights: all 1 (default)\n",
            "        Features: none\n",
            "    default-test_179->default: [21013]\n",
            "        Weights: all 1 (default)\n",
            "        Features: none\n",
            "    default-test_122->default: [20204]\n",
            "        Weights: all 1 (default)\n",
            "        Features: none\n",
            "    default-test_4->default: [19930]\n",
            "        Weights: all 1 (default)\n",
            "        Features: none\n",
            "    default-test_83->default: [19803]\n",
            "        Weights: all 1 (default)\n",
            "        Features: none\n",
            "    default-test_226->default: [19376]\n",
            "        Weights: all 1 (default)\n",
            "        Features: none\n",
            "    default-test_70->default: [19365]\n",
            "        Weights: all 1 (default)\n",
            "        Features: none\n",
            "    ... (30 more)\n"
          ]
        }
      ],
      "source": [
        "print(G_train.info())"
      ]
    },
    {
      "cell_type": "code",
      "execution_count": null,
      "metadata": {
        "colab": {
          "base_uri": "https://localhost:8080/"
        },
        "id": "RKGJ8k_I5VPR",
        "outputId": "cba8a626-81d1-4098-fb82-239648c5ce4a"
      },
      "outputs": [
        {
          "name": "stdout",
          "output_type": "stream",
          "text": [
            "StellarGraph: Undirected multigraph\n",
            " Nodes: 645, Edges: 966376\n",
            "\n",
            " Node types:\n",
            "  default: [645]\n",
            "    Features: float32 vector, length 10829\n",
            "    Edge types: default-test_104->default, default-test_122->default, default-test_127->default, default-test_130->default, default-test_134->default, ... (45 more)\n",
            "\n",
            " Edge types:\n",
            "    default-test_74->default: [27006]\n",
            "        Weights: all 1 (default)\n",
            "        Features: none\n",
            "    default-test_29->default: [26037]\n",
            "        Weights: all 1 (default)\n",
            "        Features: none\n",
            "    default-test_361->default: [25190]\n",
            "        Weights: all 1 (default)\n",
            "        Features: none\n",
            "    default-test_68->default: [24430]\n",
            "        Weights: all 1 (default)\n",
            "        Features: none\n",
            "    default-test_127->default: [24260]\n",
            "        Weights: all 1 (default)\n",
            "        Features: none\n",
            "    default-test_104->default: [23894]\n",
            "        Weights: all 1 (default)\n",
            "        Features: none\n",
            "    default-test_130->default: [23848]\n",
            "        Weights: all 1 (default)\n",
            "        Features: none\n",
            "    default-test_207->default: [23515]\n",
            "        Weights: all 1 (default)\n",
            "        Features: none\n",
            "    default-test_208->default: [23043]\n",
            "        Weights: all 1 (default)\n",
            "        Features: none\n",
            "    default-test_307->default: [21981]\n",
            "        Weights: all 1 (default)\n",
            "        Features: none\n",
            "    default-test_330->default: [21806]\n",
            "        Weights: all 1 (default)\n",
            "        Features: none\n",
            "    default-test_234->default: [21781]\n",
            "        Weights: all 1 (default)\n",
            "        Features: none\n",
            "    default-test_178->default: [21410]\n",
            "        Weights: all 1 (default)\n",
            "        Features: none\n",
            "    default-test_59->default: [21322]\n",
            "        Weights: all 1 (default)\n",
            "        Features: none\n",
            "    default-test_179->default: [21013]\n",
            "        Weights: all 1 (default)\n",
            "        Features: none\n",
            "    default-test_122->default: [20204]\n",
            "        Weights: all 1 (default)\n",
            "        Features: none\n",
            "    default-test_4->default: [19930]\n",
            "        Weights: all 1 (default)\n",
            "        Features: none\n",
            "    default-test_83->default: [19803]\n",
            "        Weights: all 1 (default)\n",
            "        Features: none\n",
            "    default-test_51->default: [19427]\n",
            "        Weights: all 1 (default)\n",
            "        Features: none\n",
            "    default-test_226->default: [19376]\n",
            "        Weights: all 1 (default)\n",
            "        Features: none\n",
            "    ... (30 more)\n"
          ]
        }
      ],
      "source": [
        "print(G_val.info())"
      ]
    },
    {
      "cell_type": "code",
      "execution_count": null,
      "metadata": {
        "colab": {
          "base_uri": "https://localhost:8080/"
        },
        "id": "AMf0Hf3z5VPS",
        "outputId": "43b7758f-4d19-40d6-c3f0-f3b4a31bc5fa"
      },
      "outputs": [
        {
          "name": "stdout",
          "output_type": "stream",
          "text": [
            "StellarGraph: Undirected multigraph\n",
            " Nodes: 645, Edges: 971232\n",
            "\n",
            " Node types:\n",
            "  default: [645]\n",
            "    Features: float32 vector, length 10829\n",
            "    Edge types: default-test_104->default, default-test_122->default, default-test_127->default, default-test_130->default, default-test_134->default, ... (45 more)\n",
            "\n",
            " Edge types:\n",
            "    default-test_74->default: [27006]\n",
            "        Weights: all 1 (default)\n",
            "        Features: none\n",
            "    default-test_29->default: [26037]\n",
            "        Weights: all 1 (default)\n",
            "        Features: none\n",
            "    default-test_361->default: [25190]\n",
            "        Weights: all 1 (default)\n",
            "        Features: none\n",
            "    default-test_68->default: [24430]\n",
            "        Weights: all 1 (default)\n",
            "        Features: none\n",
            "    default-test_51->default: [24283]\n",
            "        Weights: all 1 (default)\n",
            "        Features: none\n",
            "    default-test_127->default: [24260]\n",
            "        Weights: all 1 (default)\n",
            "        Features: none\n",
            "    default-test_104->default: [23894]\n",
            "        Weights: all 1 (default)\n",
            "        Features: none\n",
            "    default-test_130->default: [23848]\n",
            "        Weights: all 1 (default)\n",
            "        Features: none\n",
            "    default-test_207->default: [23515]\n",
            "        Weights: all 1 (default)\n",
            "        Features: none\n",
            "    default-test_208->default: [23043]\n",
            "        Weights: all 1 (default)\n",
            "        Features: none\n",
            "    default-test_307->default: [21981]\n",
            "        Weights: all 1 (default)\n",
            "        Features: none\n",
            "    default-test_330->default: [21806]\n",
            "        Weights: all 1 (default)\n",
            "        Features: none\n",
            "    default-test_234->default: [21781]\n",
            "        Weights: all 1 (default)\n",
            "        Features: none\n",
            "    default-test_178->default: [21410]\n",
            "        Weights: all 1 (default)\n",
            "        Features: none\n",
            "    default-test_59->default: [21322]\n",
            "        Weights: all 1 (default)\n",
            "        Features: none\n",
            "    default-test_179->default: [21013]\n",
            "        Weights: all 1 (default)\n",
            "        Features: none\n",
            "    default-test_122->default: [20204]\n",
            "        Weights: all 1 (default)\n",
            "        Features: none\n",
            "    default-test_4->default: [19930]\n",
            "        Weights: all 1 (default)\n",
            "        Features: none\n",
            "    default-test_83->default: [19803]\n",
            "        Weights: all 1 (default)\n",
            "        Features: none\n",
            "    default-test_226->default: [19376]\n",
            "        Weights: all 1 (default)\n",
            "        Features: none\n",
            "    ... (30 more)\n"
          ]
        }
      ],
      "source": [
        "print(G_test.info())"
      ]
    },
    {
      "cell_type": "markdown",
      "metadata": {
        "id": "JLqDh3c95VPT"
      },
      "source": [
        "\n",
        "\n",
        "Specify the sizes of 1- and 2-hop neighbour samples for GraphSAGE:\n",
        "\n",
        "Length of `num_samples` list defines the number of layers/iterations in the GraphSAGE model. In this example, we are defining a 2-layer GraphSAGE model."
      ]
    },
    {
      "cell_type": "code",
      "execution_count": null,
      "metadata": {
        "id": "s0yeJqti5VPT"
      },
      "outputs": [],
      "source": [
        "num_samples = [10, 5]"
      ]
    },
    {
      "cell_type": "code",
      "execution_count": null,
      "metadata": {
        "id": "r-i9XPWo5VPT"
      },
      "outputs": [],
      "source": [
        "train_gen = GraphSAGELinkGenerator(G_train, batch_size, num_samples)\n",
        "val_gen = GraphSAGELinkGenerator(G_val, batch_size, num_samples)\n",
        "test_gen = GraphSAGELinkGenerator(G_test, batch_size, num_samples)"
      ]
    },
    {
      "cell_type": "markdown",
      "metadata": {
        "id": "tl8ZvXsB5VPU"
      },
      "source": [
        "\n",
        "GraphSAGE part of the model, with hidden layer sizes of 50 for both GraphSAGE layers, a bias term, and dropout."
      ]
    },
    {
      "cell_type": "code",
      "execution_count": null,
      "metadata": {
        "id": "gC12supp5VPU"
      },
      "outputs": [],
      "source": [
        "layer_sizes = [32, 32]\n",
        "graphsage = GraphSAGE(\n",
        "    layer_sizes=layer_sizes, generator=train_gen, bias=True, dropout=0.2\n",
        ")"
      ]
    },
    {
      "cell_type": "code",
      "execution_count": null,
      "metadata": {
        "id": "5Xn9I3aU5VPU"
      },
      "outputs": [],
      "source": [
        "# Build the model and expose input and output sockets of graphsage, for node pair inputs:\n",
        "x_inp, x_out = graphsage.in_out_tensors()"
      ]
    },
    {
      "cell_type": "code",
      "execution_count": null,
      "metadata": {
        "colab": {
          "base_uri": "https://localhost:8080/"
        },
        "id": "W1-ZPU8O5VPV",
        "outputId": "a5055b08-3916-42d3-96db-a87786081910"
      },
      "outputs": [
        {
          "name": "stdout",
          "output_type": "stream",
          "text": [
            "link_classification: using 'ip' method to combine node embeddings into edge embeddings\n"
          ]
        }
      ],
      "source": [
        "logits = link_classification(\n",
        "    output_dim=1, output_act=\"linear\", edge_embedding_method=\"ip\"\n",
        ")(x_out)\n",
        "\n",
        "prediction = keras.layers.Activation(keras.activations.sigmoid)(logits)"
      ]
    },
    {
      "cell_type": "markdown",
      "metadata": {
        "id": "AcLM13-K5VPV"
      },
      "source": [
        "Stack the GraphSAGE and prediction layers into a Keras model, and specify the loss"
      ]
    },
    {
      "cell_type": "code",
      "execution_count": null,
      "metadata": {
        "id": "eGLuEuLC5VPW"
      },
      "outputs": [],
      "source": [
        "model = keras.Model(inputs=x_inp, outputs=prediction)\n",
        "\n",
        "model.compile(\n",
        "    optimizer=keras.optimizers.Adam(lr=1e-3),\n",
        "    loss=keras.losses.binary_crossentropy,\n",
        "    metrics=[keras.metrics.binary_accuracy],\n",
        ")"
      ]
    },
    {
      "cell_type": "markdown",
      "metadata": {
        "id": "sQUzGmcR5VPW"
      },
      "source": [
        "Evaluate the initial (untrained) model on the train, val and test sets:"
      ]
    },
    {
      "cell_type": "code",
      "execution_count": null,
      "metadata": {
        "id": "5EnZoaYU5VPW"
      },
      "outputs": [],
      "source": [
        "train_flow = train_gen.flow(edge_ids_train, edge_labels_train, shuffle=True)\n",
        "val_flow = val_gen.flow(edge_ids_val, edge_labels_val)\n",
        "test_flow = test_gen.flow(edge_ids_test, edge_labels_test)"
      ]
    },
    {
      "cell_type": "code",
      "execution_count": null,
      "metadata": {
        "colab": {
          "base_uri": "https://localhost:8080/"
        },
        "id": "2BsZJs-f5VPW",
        "outputId": "80a21f3e-02b4-4cbf-98ed-6c55fdf8d1f0"
      },
      "outputs": [
        {
          "name": "stdout",
          "output_type": "stream",
          "text": [
            "156/156 [==============================] - 44s 272ms/step - loss: 0.7304 - binary_accuracy: 0.5017\n",
            "195/195 [==============================] - 53s 273ms/step - loss: 0.7294 - binary_accuracy: 0.4988\n",
            "172/172 [==============================] - 47s 270ms/step - loss: 0.7307 - binary_accuracy: 0.4999\n",
            "\n",
            "Train Set Metrics of the initial (untrained) model:\n",
            "\tloss: 0.7322\n",
            "\tbinary_accuracy: 0.4988\n",
            "\n",
            "Validation Set Metrics of the initial (untrained) model:\n",
            "\tloss: 0.7294\n",
            "\tbinary_accuracy: 0.4988\n",
            "\n",
            "Test Set Metrics of the initial (untrained) model:\n",
            "\tloss: 0.7307\n",
            "\tbinary_accuracy: 0.4999\n"
          ]
        }
      ],
      "source": [
        "init_train_metrics = model.evaluate(train_flow)\n",
        "init_val_metrics = model.evaluate(val_flow)\n",
        "init_test_metrics = model.evaluate(test_flow)\n",
        "\n",
        "print(\"\\nTrain Set Metrics of the initial (untrained) model:\")\n",
        "for name, val in zip(model.metrics_names, init_train_metrics):\n",
        "    print(\"\\t{}: {:0.4f}\".format(name, val))\n",
        "\n",
        "print(\"\\nValidation Set Metrics of the initial (untrained) model:\")\n",
        "for name, val in zip(model.metrics_names, init_val_metrics):\n",
        "    print(\"\\t{}: {:0.4f}\".format(name, val))\n",
        "\n",
        "print(\"\\nTest Set Metrics of the initial (untrained) model:\")\n",
        "for name, val in zip(model.metrics_names, init_test_metrics):\n",
        "    print(\"\\t{}: {:0.4f}\".format(name, val))"
      ]
    },
    {
      "cell_type": "markdown",
      "metadata": {
        "id": "B7NwWqFK5VPX"
      },
      "source": [
        "Train the model:"
      ]
    },
    {
      "cell_type": "code",
      "execution_count": null,
      "metadata": {
        "colab": {
          "base_uri": "https://localhost:8080/"
        },
        "id": "hx7k__rE5VPX",
        "outputId": "9eb057b0-d586-4ef8-e40d-9351733fca39"
      },
      "outputs": [
        {
          "name": "stdout",
          "output_type": "stream",
          "text": [
            "Epoch 1/20\n",
            "156/156 [==============================] - 97s 623ms/step - loss: 0.6478 - binary_accuracy: 0.6391 - val_loss: 0.6581 - val_binary_accuracy: 0.6151\n",
            "Epoch 2/20\n",
            "156/156 [==============================] - 97s 622ms/step - loss: 0.6327 - binary_accuracy: 0.6694 - val_loss: 0.6526 - val_binary_accuracy: 0.6184\n",
            "Epoch 3/20\n",
            "156/156 [==============================] - 97s 622ms/step - loss: 0.6269 - binary_accuracy: 0.6721 - val_loss: 0.6512 - val_binary_accuracy: 0.6203\n",
            "Epoch 4/20\n",
            "156/156 [==============================] - 97s 626ms/step - loss: 0.6198 - binary_accuracy: 0.6847 - val_loss: 0.6509 - val_binary_accuracy: 0.6227\n",
            "Epoch 5/20\n",
            "156/156 [==============================] - 96s 615ms/step - loss: 0.6188 - binary_accuracy: 0.6885 - val_loss: 0.6486 - val_binary_accuracy: 0.6276\n",
            "Epoch 6/20\n",
            "156/156 [==============================] - 96s 617ms/step - loss: 0.6096 - binary_accuracy: 0.7009 - val_loss: 0.6469 - val_binary_accuracy: 0.6294\n",
            "Epoch 7/20\n",
            "156/156 [==============================] - 96s 615ms/step - loss: 0.6090 - binary_accuracy: 0.7039 - val_loss: 0.6472 - val_binary_accuracy: 0.6293\n",
            "Epoch 8/20\n",
            "156/156 [==============================] - 96s 615ms/step - loss: 0.6096 - binary_accuracy: 0.7030 - val_loss: 0.6469 - val_binary_accuracy: 0.6249\n",
            "Epoch 9/20\n",
            "156/156 [==============================] - 96s 618ms/step - loss: 0.6054 - binary_accuracy: 0.7079 - val_loss: 0.6444 - val_binary_accuracy: 0.6343\n",
            "Epoch 10/20\n",
            "156/156 [==============================] - 96s 620ms/step - loss: 0.6027 - binary_accuracy: 0.7174 - val_loss: 0.6445 - val_binary_accuracy: 0.6349\n",
            "Epoch 11/20\n",
            "156/156 [==============================] - 96s 616ms/step - loss: 0.6027 - binary_accuracy: 0.7113 - val_loss: 0.6443 - val_binary_accuracy: 0.6360\n",
            "Epoch 12/20\n",
            "156/156 [==============================] - 96s 618ms/step - loss: 0.5998 - binary_accuracy: 0.7190 - val_loss: 0.6444 - val_binary_accuracy: 0.6367\n",
            "Epoch 13/20\n",
            "156/156 [==============================] - 96s 618ms/step - loss: 0.5978 - binary_accuracy: 0.7224 - val_loss: 0.6428 - val_binary_accuracy: 0.6411\n",
            "Epoch 14/20\n",
            "156/156 [==============================] - 97s 624ms/step - loss: 0.5974 - binary_accuracy: 0.7199 - val_loss: 0.6429 - val_binary_accuracy: 0.6422\n",
            "Epoch 15/20\n",
            "156/156 [==============================] - 96s 620ms/step - loss: 0.5985 - binary_accuracy: 0.7133 - val_loss: 0.6433 - val_binary_accuracy: 0.6411\n",
            "Epoch 16/20\n",
            "156/156 [==============================] - 95s 612ms/step - loss: 0.5941 - binary_accuracy: 0.7229 - val_loss: 0.6442 - val_binary_accuracy: 0.6340\n",
            "Epoch 17/20\n",
            "156/156 [==============================] - 96s 615ms/step - loss: 0.5960 - binary_accuracy: 0.7224 - val_loss: 0.6427 - val_binary_accuracy: 0.6401\n",
            "Epoch 18/20\n",
            "156/156 [==============================] - 95s 614ms/step - loss: 0.5948 - binary_accuracy: 0.7185 - val_loss: 0.6418 - val_binary_accuracy: 0.6402\n",
            "Epoch 19/20\n",
            "156/156 [==============================] - 95s 613ms/step - loss: 0.5935 - binary_accuracy: 0.7208 - val_loss: 0.6431 - val_binary_accuracy: 0.6388\n",
            "Epoch 20/20\n",
            "156/156 [==============================] - 95s 611ms/step - loss: 0.5926 - binary_accuracy: 0.7218 - val_loss: 0.6430 - val_binary_accuracy: 0.6379\n"
          ]
        }
      ],
      "source": [
        "history = model.fit(\n",
        "    train_flow, epochs=epochs, validation_data=val_flow, verbose=1, shuffle=True,\n",
        ")"
      ]
    },
    {
      "cell_type": "markdown",
      "metadata": {
        "id": "EWyUwPMD5VPX"
      },
      "source": [
        "Plot the training history:"
      ]
    },
    {
      "cell_type": "code",
      "execution_count": null,
      "metadata": {
        "colab": {
          "base_uri": "https://localhost:8080/",
          "height": 585
        },
        "id": "rMJq6hpQ5VPX",
        "outputId": "ebb1d513-fbda-4928-d2d4-55e0fddc61dc"
      },
      "outputs": [
        {
          "data": {
            "image/png": "[encoded data removed]",
            "text/plain": [
              "<Figure size 504x576 with 2 Axes>"
            ]
          },
          "metadata": {
            "needs_background": "light",
            "tags": []
          },
          "output_type": "display_data"
        }
      ],
      "source": [
        "sg.utils.plot_history(history)"
      ]
    },
    {
      "cell_type": "markdown",
      "metadata": {
        "id": "Ra2ueGGq5VPY"
      },
      "source": [
        "Evaluate the trained model on test citation links:"
      ]
    },
    {
      "cell_type": "code",
      "execution_count": null,
      "metadata": {
        "colab": {
          "base_uri": "https://localhost:8080/"
        },
        "id": "gVRsbxTQ5VPY",
        "outputId": "cccf6903-033b-4e96-f4a8-a2bc972153c2"
      },
      "outputs": [
        {
          "name": "stdout",
          "output_type": "stream",
          "text": [
            "156/156 [==============================] - 42s 271ms/step - loss: 0.5740 - binary_accuracy: 0.7532\n",
            "195/195 [==============================] - 53s 270ms/step - loss: 0.6422 - binary_accuracy: 0.6397\n",
            "172/172 [==============================] - 46s 268ms/step - loss: 0.6413 - binary_accuracy: 0.6445\n",
            "\n",
            "Train Set Metrics of the trained model:\n",
            "\tloss: 0.5740\n",
            "\tbinary_accuracy: 0.7532\n",
            "\n",
            "Validation Set Metrics of the trained model:\n",
            "\tloss: 0.6422\n",
            "\tbinary_accuracy: 0.6397\n",
            "\n",
            "Test Set Metrics of the trained model:\n",
            "\tloss: 0.6413\n",
            "\tbinary_accuracy: 0.6445\n"
          ]
        }
      ],
      "source": [
        "train_metrics = model.evaluate(train_flow)\n",
        "val_metrics = model.evaluate(val_flow)\n",
        "test_metrics = model.evaluate(test_flow)\n",
        "\n",
        "print(\"\\nTrain Set Metrics of the trained model:\")\n",
        "for name, val in zip(model.metrics_names, train_metrics):\n",
        "    print(\"\\t{}: {:0.4f}\".format(name, val))\n",
        "\n",
        "print(\"\\nValidation Set Metrics of the trained model:\")\n",
        "for name, val in zip(model.metrics_names, val_metrics):\n",
        "    print(\"\\t{}: {:0.4f}\".format(name, val))\n",
        "\n",
        "print(\"\\nTest Set Metrics of the trained model:\")\n",
        "for name, val in zip(model.metrics_names, test_metrics):\n",
        "    print(\"\\t{}: {:0.4f}\".format(name, val))"
      ]
    },
    {
      "cell_type": "code",
      "execution_count": null,
      "metadata": {
        "id": "M2tcNR0n5VPY"
      },
      "outputs": [],
      "source": [
        "num_tests = 1  # the number of times to generate predictions"
      ]
    },
    {
      "cell_type": "code",
      "execution_count": null,
      "metadata": {
        "colab": {
          "base_uri": "https://localhost:8080/"
        },
        "id": "_6-EYSMd5VPZ",
        "outputId": "36e64aa0-3741-449f-d50b-af1361fc1caa"
      },
      "outputs": [
        {
          "name": "stdout",
          "output_type": "stream",
          "text": [
            "172/172 [==============================] - 46s 263ms/step\n"
          ]
        }
      ],
      "source": [
        "all_test_predictions = [\n",
        "    model.predict(test_flow, verbose=True) for _ in np.arange(num_tests)\n",
        "]"
      ]
    },
    {
      "cell_type": "markdown",
      "metadata": {
        "id": "vbq5hfws5VPZ"
      },
      "source": [
        "## Diagnosing model miscalibration\n",
        "\n",
        "We are going to use method from scikit-learn.calibration module to calibrate the binary classifier."
      ]
    },
    {
      "cell_type": "code",
      "execution_count": null,
      "metadata": {
        "id": "t8Zn9Srz5VPZ"
      },
      "outputs": [],
      "source": [
        "calibration_data = [\n",
        "    calibration_curve(\n",
        "        y_prob=test_predictions, y_true=edge_labels_test, n_bins=10, normalize=True\n",
        "    )\n",
        "    for test_predictions in all_test_predictions\n",
        "]"
      ]
    },
    {
      "cell_type": "markdown",
      "metadata": {
        "id": "BFxuWvr05VPa"
      },
      "source": [
        "Let' calculate the expected calibration error on the test set before calibration."
      ]
    },
    {
      "cell_type": "code",
      "execution_count": null,
      "metadata": {
        "colab": {
          "base_uri": "https://localhost:8080/"
        },
        "id": "RpZjDQ7L5VPa",
        "outputId": "0886d9e7-6534-4b76-a39d-f422ed21f772"
      },
      "outputs": [
        {
          "name": "stdout",
          "output_type": "stream",
          "text": [
            "ECE: (before calibration) 0.1028\n"
          ]
        }
      ],
      "source": [
        "for fraction_of_positives, mean_predicted_value in calibration_data:\n",
        "    ece_pre_calibration = expected_calibration_error(\n",
        "        prediction_probabilities=all_test_predictions[0],\n",
        "        accuracy=fraction_of_positives,\n",
        "        confidence=mean_predicted_value,\n",
        "    )\n",
        "    print(\"ECE: (before calibration) {:.4f}\".format(ece_pre_calibration))"
      ]
    },
    {
      "cell_type": "markdown",
      "metadata": {
        "id": "ipCe53Sc5VPa"
      },
      "source": [
        "Now let's plot the reliability diagram. This is a visual aid for the diagnosis of a poorly calibrated binary classifier."
      ]
    },
    {
      "cell_type": "code",
      "execution_count": null,
      "metadata": {
        "colab": {
          "base_uri": "https://localhost:8080/",
          "height": 443
        },
        "id": "n1QJLElk5VPa",
        "outputId": "038b6a1c-bd1d-4a3b-dbbd-c46add796163"
      },
      "outputs": [
        {
          "data": {
            "image/png": "[encoded data removed]",
            "text/plain": [
              "<Figure size 864x576 with 2 Axes>"
            ]
          },
          "metadata": {
            "needs_background": "light",
            "tags": []
          },
          "output_type": "display_data"
        }
      ],
      "source": [
        "plot_reliability_diagram(\n",
        "    calibration_data, np.array(all_test_predictions[0]), ece=[ece_pre_calibration]\n",
        ")"
      ]
    },
    {
      "cell_type": "markdown",
      "metadata": {
        "id": "ClVRS3y-5VPb"
      },
      "source": [
        "## Model Calibration "
      ]
    },
    {
      "cell_type": "markdown",
      "metadata": {
        "id": "ovOWZm3d5VPb"
      },
      "source": [
        "Select the calibration method."
      ]
    },
    {
      "cell_type": "code",
      "execution_count": null,
      "metadata": {
        "id": "gljwwHzz5VPb"
      },
      "outputs": [],
      "source": [
        "use_platt = False  # True for Platt scaling or False for Isotonic Regression"
      ]
    },
    {
      "cell_type": "code",
      "execution_count": null,
      "metadata": {
        "id": "I4z70f7h5VPc"
      },
      "outputs": [],
      "source": [
        "num_tests = 10"
      ]
    },
    {
      "cell_type": "code",
      "execution_count": null,
      "metadata": {
        "id": "tXQ1sq4x5VPc"
      },
      "outputs": [],
      "source": [
        "score_model = keras.Model(inputs=x_inp, outputs=logits)"
      ]
    },
    {
      "cell_type": "code",
      "execution_count": null,
      "metadata": {
        "colab": {
          "base_uri": "https://localhost:8080/"
        },
        "id": "9AvFwyhB5VPd",
        "outputId": "8561afd4-00e9-493a-98a4-b67c059bd44d"
      },
      "outputs": [
        {
          "name": "stdout",
          "output_type": "stream",
          "text": [
            "195/195 [==============================] - 51s 261ms/step\n",
            "195/195 [==============================] - 51s 261ms/step\n",
            "195/195 [==============================] - 51s 259ms/step\n",
            "195/195 [==============================] - 51s 259ms/step\n",
            "195/195 [==============================] - 51s 259ms/step\n",
            "195/195 [==============================] - 51s 260ms/step\n",
            "195/195 [==============================] - 51s 262ms/step\n",
            "195/195 [==============================] - 51s 260ms/step\n",
            "195/195 [==============================] - 51s 261ms/step\n",
            "195/195 [==============================] - 50s 259ms/step\n",
            "172/172 [==============================] - 45s 261ms/step\n",
            "172/172 [==============================] - 45s 263ms/step\n",
            "172/172 [==============================] - 45s 263ms/step\n",
            "172/172 [==============================] - 45s 261ms/step\n",
            "172/172 [==============================] - 45s 261ms/step\n",
            "172/172 [==============================] - 45s 261ms/step\n",
            "172/172 [==============================] - 45s 262ms/step\n",
            "172/172 [==============================] - 45s 260ms/step\n",
            "172/172 [==============================] - 45s 261ms/step\n",
            "172/172 [==============================] - 45s 261ms/step\n"
          ]
        }
      ],
      "source": [
        "if use_platt:\n",
        "    all_val_score_predictions = [\n",
        "        score_model.predict(val_flow, verbose=True) for _ in np.arange(num_tests)\n",
        "    ]\n",
        "    all_test_score_predictions = [\n",
        "        score_model.predict(test_flow, verbose=True) for _ in np.arange(num_tests)\n",
        "    ]\n",
        "    all_test_probabilistic_predictions = [\n",
        "        model.predict(test_flow, verbose=True) for _ in np.arange(num_tests)\n",
        "    ]\n",
        "else:\n",
        "    all_val_score_predictions = [\n",
        "        model.predict(val_flow, verbose=True) for _ in np.arange(num_tests)\n",
        "    ]\n",
        "    all_test_probabilistic_predictions = [\n",
        "        model.predict(test_flow, verbose=True) for _ in np.arange(num_tests)\n",
        "    ]"
      ]
    },
    {
      "cell_type": "code",
      "execution_count": null,
      "metadata": {
        "colab": {
          "base_uri": "https://localhost:8080/"
        },
        "id": "ZdUfAXKX5VPd",
        "outputId": "e7c60b29-2e33-45c1-97de-1bc1f5188344"
      },
      "outputs": [
        {
          "data": {
            "text/plain": [
              "(9712, 1)"
            ]
          },
          "execution_count": 84,
          "metadata": {
            "tags": []
          },
          "output_type": "execute_result"
        }
      ],
      "source": [
        "val_predictions = np.mean(np.array(all_val_score_predictions), axis=0)\n",
        "val_predictions.shape"
      ]
    },
    {
      "cell_type": "code",
      "execution_count": null,
      "metadata": {
        "id": "gXPGY5Ag5VPe"
      },
      "outputs": [],
      "source": [
        "# These are the uncalibrated prediction probabilities.\n",
        "if use_platt:\n",
        "    test_predictions = np.mean(np.array(all_test_score_predictions), axis=0)\n",
        "    test_predictions.shape\n",
        "else:\n",
        "    test_predictions = np.mean(np.array(all_test_probabilistic_predictions), axis=0)\n",
        "    test_predictions.shape"
      ]
    },
    {
      "cell_type": "code",
      "execution_count": null,
      "metadata": {
        "id": "Fwdvj0pw5VPe"
      },
      "outputs": [],
      "source": [
        "if use_platt:\n",
        "    # for binary classification this class performs Platt Scaling\n",
        "    lr = TemperatureCalibration()\n",
        "else:\n",
        "    lr = IsotonicCalibration()"
      ]
    },
    {
      "cell_type": "code",
      "execution_count": null,
      "metadata": {
        "colab": {
          "base_uri": "https://localhost:8080/"
        },
        "id": "2UDIWtEa5VPe",
        "outputId": "388d0cc1-c1e6-4485-e901-be9e0e003711"
      },
      "outputs": [
        {
          "data": {
            "text/plain": [
              "((9712, 1), (9712,))"
            ]
          },
          "execution_count": 87,
          "metadata": {
            "tags": []
          },
          "output_type": "execute_result"
        }
      ],
      "source": [
        "val_predictions.shape, edge_labels_val.shape"
      ]
    },
    {
      "cell_type": "code",
      "execution_count": null,
      "metadata": {
        "id": "8OQRP6-M5VPf"
      },
      "outputs": [],
      "source": [
        "lr.fit(val_predictions, edge_labels_val)"
      ]
    },
    {
      "cell_type": "code",
      "execution_count": null,
      "metadata": {
        "colab": {
          "base_uri": "https://localhost:8080/",
          "height": 282
        },
        "id": "aBVt81nj5VPf",
        "outputId": "14c092c0-e5b3-45a9-e167-7751fd2aaeff"
      },
      "outputs": [
        {
          "ename": "TypeError",
          "evalue": "ignored",
          "output_type": "error",
          "traceback": [
            "\u001b[0;31m---------------------------------------------------------------------------\u001b[0m",
            "\u001b[0;31mTypeError\u001b[0m                                 Traceback (most recent call last)",
            "\u001b[0;32m<ipython-input-80-99ed98ef21f7>\u001b[0m in \u001b[0;36m<module>\u001b[0;34m()\u001b[0m\n\u001b[0;32m----> 1\u001b[0;31m \u001b[0mlr_test_predictions\u001b[0m \u001b[0;34m=\u001b[0m \u001b[0mlr\u001b[0m\u001b[0;34m.\u001b[0m\u001b[0mpredict\u001b[0m\u001b[0;34m(\u001b[0m\u001b[0mtest_predictions\u001b[0m\u001b[0;34m)\u001b[0m\u001b[0;34m\u001b[0m\u001b[0;34m\u001b[0m\u001b[0m\n\u001b[0m",
            "\u001b[0;32m/usr/local/lib/python3.6/dist-packages/stellargraph/calibration.py\u001b[0m in \u001b[0;36mpredict\u001b[0;34m(self, x)\u001b[0m\n\u001b[1;32m    447\u001b[0m             )\n\u001b[1;32m    448\u001b[0m \u001b[0;34m\u001b[0m\u001b[0m\n\u001b[0;32m--> 449\u001b[0;31m         \u001b[0;32mif\u001b[0m \u001b[0mself\u001b[0m\u001b[0;34m.\u001b[0m\u001b[0mn_classes\u001b[0m \u001b[0;34m>\u001b[0m \u001b[0;36m1\u001b[0m \u001b[0;32mand\u001b[0m \u001b[0mx\u001b[0m\u001b[0;34m.\u001b[0m\u001b[0mshape\u001b[0m\u001b[0;34m[\u001b[0m\u001b[0;36m1\u001b[0m\u001b[0;34m]\u001b[0m \u001b[0;34m!=\u001b[0m \u001b[0mself\u001b[0m\u001b[0;34m.\u001b[0m\u001b[0mn_classes\u001b[0m\u001b[0;34m:\u001b[0m\u001b[0;34m\u001b[0m\u001b[0;34m\u001b[0m\u001b[0m\n\u001b[0m\u001b[1;32m    450\u001b[0m             raise ValueError(\n\u001b[1;32m    451\u001b[0m                 \"Expecting input vector of dimensionality {} but received {}\".format(\n",
            "\u001b[0;31mTypeError\u001b[0m: '>' not supported between instances of 'NoneType' and 'int'"
          ]
        }
      ],
      "source": [
        "lr_test_predictions = lr.predict(test_predictions)"
      ]
    },
    {
      "cell_type": "code",
      "execution_count": null,
      "metadata": {
        "colab": {
          "base_uri": "https://localhost:8080/"
        },
        "id": "V9ZuIYMT5VPf",
        "outputId": "cfd76438-9d34-491e-e35c-1e635dc144ed"
      },
      "outputs": [
        {
          "data": {
            "text/plain": [
              "(8570, 1)"
            ]
          },
          "execution_count": 89,
          "metadata": {
            "tags": []
          },
          "output_type": "execute_result"
        }
      ],
      "source": [
        "lr_test_predictions.shape"
      ]
    },
    {
      "cell_type": "code",
      "execution_count": null,
      "metadata": {
        "id": "vv0UJdQW5VPg",
        "scrolled": true
      },
      "outputs": [],
      "source": [
        "calibration_data = [\n",
        "    calibration_curve(\n",
        "        y_prob=lr_test_predictions, y_true=edge_labels_test, n_bins=10, normalize=True\n",
        "    )\n",
        "]"
      ]
    },
    {
      "cell_type": "code",
      "execution_count": null,
      "metadata": {
        "id": "tukQRAcm5VPg"
      },
      "outputs": [],
      "source": [
        "for fraction_of_positives, mean_predicted_value in calibration_data:\n",
        "    ece_post_calibration = expected_calibration_error(\n",
        "        prediction_probabilities=lr_test_predictions,\n",
        "        accuracy=fraction_of_positives,\n",
        "        confidence=mean_predicted_value,\n",
        "    )\n",
        "    print(\"ECE (after calibration): {:.4f}\".format(ece_post_calibration))"
      ]
    },
    {
      "cell_type": "code",
      "execution_count": null,
      "metadata": {
        "id": "h56QiZup5VPg"
      },
      "outputs": [],
      "source": [
        "plot_reliability_diagram(\n",
        "    calibration_data, lr_test_predictions, ece=[ece_post_calibration]\n",
        ")"
      ]
    },
    {
      "cell_type": "markdown",
      "metadata": {
        "id": "FvQe69Mn5VPh"
      },
      "source": [
        "As a final test, check if the accuracy of the model changes after calibration."
      ]
    },
    {
      "cell_type": "code",
      "execution_count": null,
      "metadata": {
        "colab": {
          "base_uri": "https://localhost:8080/"
        },
        "id": "2HoVmXej5VPh",
        "outputId": "192f543c-8b83-4b6a-d3d0-262e4547aa78"
      },
      "outputs": [
        {
          "name": "stdout",
          "output_type": "stream",
          "text": [
            "Accuracy of model before calibration: 0.64\n"
          ]
        }
      ],
      "source": [
        "y_pred = np.zeros(len(test_predictions))\n",
        "if use_platt:\n",
        "    # the true predictions are the probabilistic outputs\n",
        "    test_predictions = np.mean(np.array(all_test_probabilistic_predictions), axis=0)\n",
        "y_pred[test_predictions.reshape(-1) > 0.5] = 1\n",
        "print(\n",
        "    \"Accuracy of model before calibration: {:.2f}\".format(\n",
        "        accuracy_score(y_pred=y_pred, y_true=edge_labels_test)\n",
        "    )\n",
        ")"
      ]
    },
    {
      "cell_type": "code",
      "execution_count": null,
      "metadata": {
        "colab": {
          "base_uri": "https://localhost:8080/"
        },
        "id": "B-5TqeAS5VPh",
        "outputId": "bfc3a12a-741d-4a2c-f837-f6e7e1511444"
      },
      "outputs": [
        {
          "name": "stdout",
          "output_type": "stream",
          "text": [
            "Accuracy for model after calibration: 0.66\n"
          ]
        }
      ],
      "source": [
        "y_pred = np.zeros(len(lr_test_predictions))\n",
        "y_pred[lr_test_predictions[:, 0] > 0.5] = 1\n",
        "print(\n",
        "    \"Accuracy for model after calibration: {:.2f}\".format(\n",
        "        accuracy_score(y_pred=y_pred, y_true=edge_labels_test)\n",
        "    )\n",
        ")"
      ]
    }
  ],
  "metadata": {
    "accelerator": "GPU",
    "colab": {
      "collapsed_sections": [],
      "name": "GraphSAGE-link-prediction.ipynb",
      "provenance": [],
      "toc_visible": true
    },
    "file_extension": ".py",
    "kernelspec": {
      "display_name": "Python 3.8.1 64-bit ('GNN': conda)",
      "name": "python381jvsc74a57bd04665927772f647bf51b2ecd42149312ac31f527b3f72ca0a5a825621de38ebbb"
    },
    "language_info": {
      "name": "python",
      "version": ""
    },
    "metadata": {
      "interpreter": {
        "hash": "4665927772f647bf51b2ecd42149312ac31f527b3f72ca0a5a825621de38ebbb"
      }
    },
    "mimetype": "text/x-python",
    "name": "python",
    "npconvert_exporter": "python",
    "pygments_lexer": "ipython3",
    "version": 3
  },
  "nbformat": 4,
  "nbformat_minor": 0
}