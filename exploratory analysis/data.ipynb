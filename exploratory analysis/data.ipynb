{
 "cells": [
  {
   "cell_type": "markdown",
   "metadata": {
    "pycharm": {}
   },
   "source": [
    "# Pre-Process Decagon Data and Save Using Pickle"
   ]
  },
  {
   "cell_type": "markdown",
   "metadata": {},
   "source": [
    "## Highlight\n",
    "\n"
   ]
  },
  {
   "cell_type": "markdown",
   "metadata": {
    "pycharm": {
     "is_executing": false
    }
   },
   "source": [
    "The frequency distribution of DD edge types is shown in the following figure. In Zinik(2018)'s work, they remove the DD edge types that each occurred in less than 500 drug combinations. Therefore, they use the sub-dataset of what we described and analyzed in this notebook.\n",
    "![](hist_dd_edge.png)\n",
    "\n",
    "Here is the summary of the data they use:\n",
    "- protein: 19k\n",
    "- protein edge: 1431k\n",
    "- drug: 645\n",
    "- drug edge: 6966k\n",
    "- drug edge type: 963\n",
    "- drug with protein link (dwp): 284\n",
    "- dwp edge: 1810k\n",
    "- drug feature: dim 10k, {0, 1} binary valued\n"
   ]
  },
  {
   "cell_type": "markdown",
   "metadata": {
    "pycharm": {}
   },
   "source": [
    "## 1. Analysis Nodes, Edges, Node Features and Edge Types"
   ]
  },
  {
   "cell_type": "code",
   "execution_count": null,
   "metadata": {
    "pycharm": {
     "is_executing": false
    }
   },
   "outputs": [],
   "source": [
    "import csv\n"
   ]
  },
  {
   "cell_type": "code",
   "execution_count": null,
   "metadata": {
    "pycharm": {
     "is_executing": false
    }
   },
   "outputs": [],
   "source": [
    "# set data paths\n",
    "pp_f = \"../data/bio-decagon-ppi.csv\"\n",
    "dd_f = \"../data/bio-decagon-combo.csv\"\n",
    "dp_f = \"../data/bio-decagon-targets.csv\"\n",
    "ds_f = \"../data/bio-decagon-mono.csv\"\n"
   ]
  },
  {
   "cell_type": "code",
   "execution_count": null,
   "metadata": {
    "pycharm": {
     "is_executing": false
    }
   },
   "outputs": [],
   "source": [
    "# original data collection holder\n",
    "p_set = set()                 # protein nodes\n",
    "d_set = set()                 # drug nodes\n",
    "combo_set = set()             # edge types\n",
    "mono_set = set()              # additional drug features\n",
    "\n",
    "# read file to list\n",
    "pp_list, ddt_list, dp_list, ds_list = [], [], [], []   # lists of tuples\n",
    "\n",
    "# set temporary variable\n",
    "a, b, c = 0, 0, 0"
   ]
  },
  {
   "cell_type": "markdown",
   "metadata": {
    "pycharm": {}
   },
   "source": [
    "### 1.1 protein-protein association network\n",
    "\n",
    "Includes:\n",
    "\n",
    "- physical interaction\n",
    "- functional associations\n",
    "\n",
    "Notation:\n",
    "\n",
    "- node: protein\n",
    "- edge: association or interaction\n",
    "\n",
    "Number:\n",
    "\n",
    "- 19081 nodes (min: 1; max: 110255169)\n",
    "- 715612 edges"
   ]
  },
  {
   "cell_type": "code",
   "execution_count": null,
   "metadata": {
    "pycharm": {
     "is_executing": false
    }
   },
   "outputs": [],
   "source": [
    "with open(pp_f, 'r') as f:\n",
    "    ppi = csv.reader(f)\n",
    "    next(ppi)\n",
    "    for [g1, g2] in ppi:\n",
    "        a, b = int(g1), int(g2)\n",
    "        p_set.add(a)\n",
    "        p_set.add(b)\n",
    "        pp_list.append((a, b))\n",
    "print(\"{:d} protein nodes indexed from {:d} to {:d}.\".format(len(p_set), min(p_set), max(p_set)))\n",
    "print(\"{:d} protein-protein edges\".format(len(pp_list)))"
   ]
  },
  {
   "cell_type": "markdown",
   "metadata": {
    "pycharm": {}
   },
   "source": [
    "### 1.2 drug-drug association network with side effects\n",
    "\n",
    "!! TIME COSTY SECTION\n",
    "\n",
    "Notation:\n",
    "\n",
    "- node: drug\n",
    "- edge with typies: type of side effects that are associated with drug pairs\n",
    "\n",
    "Number:\n",
    "\n",
    "- 645 nodes\n",
    "- 63473 edges\n",
    "- 1317 edge types"
   ]
  },
  {
   "cell_type": "code",
   "execution_count": null,
   "metadata": {
    "pycharm": {
     "is_executing": false
    }
   },
   "outputs": [],
   "source": [
    "with open(\"../data/bio-decagon-combo.csv\", \"r\") as f:\n",
    "    ppi = csv.reader(f)\n",
    "    next(ppi)\n",
    "    for [d1, d2, t, n] in ppi:\n",
    "        a, b, c = int(t.split('C')[-1]), int(d1.split('D')[-1]), int(d2.split('D')[-1])\n",
    "        combo_set.add(a)\n",
    "        d_set.add(b)\n",
    "        d_set.add(c)\n",
    "        ddt_list.append((b, c, a))\n",
    "print(\"{:d} drug nodes indexed from {:d} to {:d}\".format(len(d_set), min(d_set), max(d_set)))\n",
    "print(\"{:d} drug-drug edges with {:d} edge types indexed from {:d} to {:d}\"\n",
    "      .format(len(ddt_list), len(combo_set), min(combo_set), max(combo_set)))\n"
   ]
  },
  {
   "cell_type": "markdown",
   "metadata": {
    "pycharm": {}
   },
   "source": [
    "### 1.3 drug-protein association network\n",
    "\n",
    "Notation:\n",
    "\n",
    "- node: drug and genes(encode protein)\n",
    "- edge: gene is targeted by drug\n",
    "\n",
    "Number:\n",
    "\n",
    "- 3932 nodes: 284 drug; 3648 gene\n",
    "- 18690 edges"
   ]
  },
  {
   "cell_type": "code",
   "execution_count": null,
   "metadata": {
    "pycharm": {
     "is_executing": false
    }
   },
   "outputs": [],
   "source": [
    "p_temp_set = set()\n",
    "d_temp_set = set()\n",
    "\n",
    "with open(\"../data/bio-decagon-targets.csv\", \"r\") as f:\n",
    "    ppi = csv.reader(f)\n",
    "    next(ppi)\n",
    "    for [d, p] in ppi:\n",
    "        a, b = int(d.split('D')[-1]), int(p)\n",
    "        d_set.add(a)\n",
    "        d_temp_set.add(a)\n",
    "        p_set.add(b)\n",
    "        p_temp_set.add(b)\n",
    "        dp_list.append((a, b))\n",
    "print(\"{:d} drug-protein edges\".format(len(dp_list)))\n",
    "print(\"{:d} proteins not in the ppi network\".format(p_set.__len__() - 19081))\n",
    "print(\"Protein numbers of {:d} indexed from {:d} to {:d}\".format(len(p_temp_set), min(p_temp_set), max(p_temp_set)))\n",
    "print(\"Drug numbers of {:d} indexed from {:d} to {:d}\".format(len(d_temp_set), min(d_temp_set), max(d_temp_set)))\n",
    "\n",
    "print(\"{:d} drugs not in the drug-drug network\".format(d_set.__len__() - 645))\n"
   ]
  },
  {
   "cell_type": "markdown",
   "metadata": {
    "pycharm": {}
   },
   "source": [
    "### 1.4 single drug side effects\n",
    "\n",
    "Notation:\n",
    "\n",
    "- node: drug and side-effect\n",
    "- edge: side effect caused by drug\n",
    "\n",
    "Number:\n",
    "\n",
    "- 10825 nodes: 640 drug; 10184 side effect\n",
    "- 174978 edges"
   ]
  },
  {
   "cell_type": "code",
   "execution_count": null,
   "metadata": {
    "pycharm": {
     "is_executing": false
    }
   },
   "outputs": [],
   "source": [
    "temp = d_set.__len__()\n",
    "s_temp_set = set()\n",
    "d_temp_set = set()\n",
    "ds_list = []\n",
    "\n",
    "with open(\"../data/bio-decagon-mono.csv\", \"r\") as f:\n",
    "    ppi = csv.reader(f)\n",
    "    next(ppi)\n",
    "    for [d, e, n] in ppi:\n",
    "        a, b = int(e.split('C')[-1]), int(d.split('D')[-1])\n",
    "        mono_set.add(a)\n",
    "        d_set.add(b)\n",
    "        s_temp_set.add(a)\n",
    "        d_temp_set.add(b)\n",
    "        ds_list.append((b, a))\n",
    "print(\"{:d} drugs not in the drug-drug network.\"\n",
    "      .format(d_set.__len__() - temp))\n",
    "print(\"{:d} single drug side effects in drug pair side effects set.\"\n",
    "      .format((combo_set & mono_set).__len__()))\n",
    "\n",
    "print(\"Drug: {:d} indexed from {:d} to {:d}\"\n",
    "      .format(len(d_temp_set), min(d_temp_set), max(d_temp_set)))\n",
    "print(\"Side effect: {:d} indexed from {:d} to {:d}\"\n",
    "      .format(len(s_temp_set), min(s_temp_set), max(s_temp_set)))\n",
    "print(\"Edge: {:d}\".format(len(ds_list)))"
   ]
  },
  {
   "cell_type": "code",
   "execution_count": null,
   "metadata": {
    "pycharm": {
     "is_executing": false
    }
   },
   "outputs": [],
   "source": [
    "# the numbers\n",
    "num_gene = p_set.__len__()\n",
    "num_drug = d_set.__len__()\n",
    "num_edge_type = combo_set.__len__()\n",
    "num_drug_additional_feature = mono_set.__len__()\n",
    "\n",
    "print(\"Summary: \")\n",
    "print(\" -> Protein Node              : {:d}\".format(num_gene))\n",
    "print(\" -> Drug    Node              : {:d}\".format(num_drug))\n",
    "print(\" -> Drug    Pair  Side  Effect: {:d}\".format(num_edge_type))\n",
    "print(\" -> Single  Drug  Side  Effect: {:d}\".format(num_drug_additional_feature))"
   ]
  },
  {
   "cell_type": "markdown",
   "metadata": {
    "pycharm": {}
   },
   "source": [
    "## 2. Index Drug Nodes, Protein Nodes, Drug Additional Features and Drug-Drug Edge Types\n",
    "\n",
    "Note: Using gene presents its encode protein"
   ]
  },
  {
   "cell_type": "code",
   "execution_count": null,
   "metadata": {
    "pycharm": {
     "is_executing": false
    }
   },
   "outputs": [],
   "source": [
    "import scipy.sparse as sp"
   ]
  },
  {
   "cell_type": "markdown",
   "metadata": {
    "pycharm": {}
   },
   "source": [
    "### 2.1 Re-indexing Stragy\n",
    "\n",
    "xxx\\_to\\_new is a one-row sparse matrix:\n",
    "\n",
    "- index: real drug/protein/side effect index  \n",
    "- value: its new index \n",
    "\n",
    "xxx\\_to\\_old is a list:\n",
    "\n",
    "- index: the re-allocated index\n",
    "- value: original index\n"
   ]
  },
  {
   "cell_type": "code",
   "execution_count": null,
   "metadata": {
    "pycharm": {
     "is_executing": false
    }
   },
   "outputs": [],
   "source": [
    "# protein\n",
    "gene_to_old = list(p_set)\n",
    "gene_to_new = sp.csr_matrix((range(num_gene), ([0] * num_gene, gene_to_old)))\n",
    "\n",
    "# drug\n",
    "drug_to_old = list(d_set)\n",
    "drug_to_new = sp.csr_matrix((range(num_drug), ([0] * num_drug, drug_to_old)))\n",
    "\n",
    "# drug pair side effect\n",
    "edge_type_to_old = list(combo_set)\n",
    "edge_type_to_new = sp.csr_matrix((range(num_edge_type), ([0] * num_edge_type, edge_type_to_old)))\n",
    "\n",
    "# single drug side effect\n",
    "side_effect_to_old = list(mono_set)\n",
    "side_effect_to_new = sp.csr_matrix((range(num_drug_additional_feature), ([0] * num_drug_additional_feature, side_effect_to_old)))\n"
   ]
  },
  {
   "cell_type": "markdown",
   "metadata": {
    "pycharm": {}
   },
   "source": [
    "### 2.2 report the top 10 best and worst performance side effects"
   ]
  },
  {
   "cell_type": "code",
   "execution_count": null,
   "metadata": {
    "pycharm": {
     "is_executing": false
    }
   },
   "outputs": [],
   "source": [
    "# side effect name - original index\n",
    "best_name = [\"Mumps\", \"Carbuncle\", \"Coccydynia\", \"Tympanic membrane perfor\", \"Dyshidrosis\", \n",
    "             \"Spondylosis\", \"Schizoaffective disorder\", \"Breast dysplasia\", \"Ganglion\", \"Uterine polyp\"\n",
    "            ]\n",
    "worst_name = [\"Bleeding\", \"Body temperature increased\",  \"Emesis\", \"Renal disorder\", \"Leucopenia\", \n",
    "              \"Diarrhea\", \"Icterus\", \"Nausea\", \"Itch\", \"Anaemia\"]\n",
    "best_org_ind = [26780, 7078, 9193, 206504, 32633, \n",
    "                38019, 36337, 16034, 1258666, 156369] \n",
    "worst_org_ind = [19080, 15967, 42963, 22658, 23530, \n",
    "                 11991, 22346, 27497, 33774, 2871]\n",
    "\n",
    "best_ind = [edge_type_to_new[0, i] for i in best_org_ind]\n",
    "worst_ind = [edge_type_to_new[0, i] for i in worst_org_ind]\n",
    "\n",
    "print(best_ind, worst_ind)\n"
   ]
  },
  {
   "cell_type": "code",
   "execution_count": null,
   "metadata": {
    "pycharm": {
     "is_executing": false
    }
   },
   "outputs": [],
   "source": [
    "edge_type_to_new[0, 26780]"
   ]
  },
  {
   "cell_type": "markdown",
   "metadata": {
    "pycharm": {}
   },
   "source": [
    "## 3. Construct Sparse Adjacency Matrix"
   ]
  },
  {
   "cell_type": "markdown",
   "metadata": {
    "pycharm": {}
   },
   "source": [
    "### 3.1 gene-gene adjacency matrix\n",
    "\n"
   ]
  },
  {
   "cell_type": "code",
   "execution_count": null,
   "metadata": {
    "pycharm": {
     "is_executing": false
    }
   },
   "outputs": [],
   "source": [
    "import numpy as np"
   ]
  },
  {
   "cell_type": "code",
   "execution_count": null,
   "metadata": {
    "pycharm": {
     "is_executing": false
    }
   },
   "outputs": [],
   "source": [
    "# set temporary variable\n",
    "r, c, array_length = [], [], len(pp_list)"
   ]
  },
  {
   "cell_type": "code",
   "execution_count": null,
   "metadata": {
    "pycharm": {
     "is_executing": false
    }
   },
   "outputs": [],
   "source": [
    "for i in range(array_length):\n",
    "    r.append(gene_to_new[0, pp_list[i][0]])\n",
    "    c.append(gene_to_new[0, pp_list[i][1]])\n",
    "    \n",
    "gene_adj = sp.csr_matrix(([1] * array_length, (r, c)), shape=(num_gene, num_gene))\n",
    "\n",
    "gene_degrees = np.array(gene_adj.sum(axis=0)).squeeze()\n"
   ]
  },
  {
   "cell_type": "markdown",
   "metadata": {
    "pycharm": {}
   },
   "source": [
    "### 3.2 drug-gene & gene-drug adjacency matrix\n"
   ]
  },
  {
   "cell_type": "code",
   "execution_count": null,
   "metadata": {
    "pycharm": {}
   },
   "outputs": [],
   "source": [
    "# set temporary variable\n",
    "r, c, array_length = [], [], len(dp_list)"
   ]
  },
  {
   "cell_type": "code",
   "execution_count": null,
   "metadata": {
    "pycharm": {}
   },
   "outputs": [],
   "source": [
    "for i in range(array_length):\n",
    "    r.append(drug_to_new[0, dp_list[i][0]])\n",
    "    c.append(gene_to_new[0, dp_list[i][1]])\n",
    "\n",
    "drug_gene_adj = sp.csr_matrix(([1] * array_length, (r, c)), shape=(num_drug, num_gene))\n",
    "gene_drug_adj = drug_gene_adj.transpose(copy=True)\n",
    "    "
   ]
  },
  {
   "cell_type": "markdown",
   "metadata": {
    "pycharm": {}
   },
   "source": [
    "### 3.3 drug-drug adjacency matrix list \n",
    "\n",
    "Note: this list is indexed by drug-drug edge type index\n",
    "\n",
    "!! TIME COSTY SECTION"
   ]
  },
  {
   "cell_type": "code",
   "execution_count": null,
   "metadata": {
    "pycharm": {}
   },
   "outputs": [],
   "source": [
    "# set temporary variable\n",
    "# r: key is the index of edge type, value is a list of two lists [drug list, drug list]\n",
    "r = {}        \n",
    "array_length = len(ddt_list)\n"
   ]
  },
  {
   "cell_type": "code",
   "execution_count": null,
   "metadata": {
    "pycharm": {}
   },
   "outputs": [],
   "source": [
    "# build drug-drug network by edge types\n",
    "for i in range(array_length):\n",
    "    c = edge_type_to_new[0, ddt_list[i][2]]\n",
    "    if c not in r:\n",
    "        r[c] = [drug_to_new[0, ddt_list[i][0]]], [drug_to_new[0, ddt_list[i][1]]]\n",
    "    else:\n",
    "        r[c][0].append(drug_to_new[0, ddt_list[i][0]])\n",
    "        r[c][1].append(drug_to_new[0, ddt_list[i][1]])\n",
    "\n",
    "# build adjacency matrix\n",
    "drug_drug_adj_list = []\n",
    "for i in range(num_edge_type):\n",
    "    drug_drug_adj_list.append(sp.csr_matrix(([1] * len(r[i][0]), (r[i][0], r[i][1])), shape=(num_drug, num_drug)))\n",
    "\n",
    "drug_degrees_list = [np.array(drug_adj.sum(axis=0)).squeeze() for drug_adj in drug_drug_adj_list]\n",
    "\n",
    "                "
   ]
  },
  {
   "cell_type": "code",
   "execution_count": null,
   "metadata": {
    "pycharm": {}
   },
   "outputs": [],
   "source": [
    "drug_drug_adj_list = []\n",
    "\n",
    "for i in range(num_edge_type):\n",
    "    drug_drug_adj_list.append(sp.load_npz(\"\".join([\"../data/drug-sparse-adj/type_\", str(i), \".npz\"])))\n",
    "    "
   ]
  },
  {
   "cell_type": "markdown",
   "metadata": {
    "pycharm": {}
   },
   "source": [
    "## 4. Generate Feature Vector"
   ]
  },
  {
   "cell_type": "markdown",
   "metadata": {
    "pycharm": {}
   },
   "source": [
    "### 4.1 gene one-hot vector"
   ]
  },
  {
   "cell_type": "code",
   "execution_count": null,
   "metadata": {
    "pycharm": {}
   },
   "outputs": [],
   "source": [
    "from utility.preprocessing import sparse_to_tuple"
   ]
  },
  {
   "cell_type": "code",
   "execution_count": null,
   "metadata": {
    "pycharm": {}
   },
   "outputs": [],
   "source": [
    "gene_feat = sp.identity(num_gene)\n",
    "\n",
    "gene_nonzero_feat, gene_num_feat = gene_feat.shape\n",
    "gene_feat = sparse_to_tuple(gene_feat.tocoo())"
   ]
  },
  {
   "cell_type": "markdown",
   "metadata": {
    "pycharm": {}
   },
   "source": [
    "### 4.2 drug feature vector with additional feature"
   ]
  },
  {
   "cell_type": "code",
   "execution_count": null,
   "metadata": {
    "pycharm": {}
   },
   "outputs": [],
   "source": [
    "# index feature\n",
    "r, c = list(range(num_drug)), list(range(num_drug))\n",
    "\n",
    "# additional feature append to index feature\n",
    "for (a, b) in ds_list:\n",
    "    r.append(drug_to_new[0, a])\n",
    "    c.append(side_effect_to_new[0, b] + num_drug)\n",
    "\n",
    "array_length = num_drug + len(ds_list)\n",
    "drug_feat_sparse = sp.csr_matrix(([1] * array_length, (r, c)), shape=(num_drug, num_drug + num_drug_additional_feature))\n",
    "\n",
    "drug_nonzero_feat, drug_num_feat = drug_feat_sparse.shape[1], np.count_nonzero(drug_feat_sparse.sum(axis=0))\n",
    "drug_feat = sparse_to_tuple(drug_feat_sparse.tocoo())\n"
   ]
  },
  {
   "cell_type": "markdown",
   "metadata": {
    "pycharm": {}
   },
   "source": [
    "### 4.3 Visualization of side effects"
   ]
  },
  {
   "cell_type": "code",
   "execution_count": null,
   "metadata": {
    "pycharm": {
     "is_executing": false
    }
   },
   "outputs": [],
   "source": [
    "from sklearn.manifold import TSNE\n",
    "import matplotlib.pyplot as plt\n",
    "%matplotlib inline\n"
   ]
  },
  {
   "cell_type": "code",
   "execution_count": null,
   "metadata": {
    "pycharm": {}
   },
   "outputs": [],
   "source": [
    "# dimension reduction\n",
    "drug_embedded = TSNE(n_components=2).fit_transform(drug_feat_sparse.toarray())\n"
   ]
  },
  {
   "cell_type": "code",
   "execution_count": null,
   "metadata": {
    "pycharm": {}
   },
   "outputs": [],
   "source": [
    "# random selecting five side effects for visualization\n",
    "np.random.seed(19680801)\n",
    "num_show_edge_index = 2\n",
    "num_show_edge = 60\n",
    "\n",
    "selected_edge_types = np.random.choice(num_edge_type, num_show_edge_index, replace=False)\n",
    "selected_edge_types.tolist()"
   ]
  },
  {
   "cell_type": "code",
   "execution_count": null,
   "metadata": {
    "pycharm": {},
    "scrolled": false
   },
   "outputs": [],
   "source": [
    "plt.figure(figsize=(12, 12), dpi= 80, facecolor='w', edgecolor='k')\n",
    "title = \"Drug Embedding Before Training\"\n",
    "col = ['r', 'g', 'b', 'k', 'c', 'm', 'y']\n",
    "\n",
    "plt.scatter(drug_embedded[:, 0], drug_embedded[:, 1], s=6, label='drug')\n",
    "for i in range(num_show_edge_index):\n",
    "    edge = selected_edge_types[i]\n",
    "    r, c = drug_drug_adj_list[edge].nonzero()\n",
    "    \n",
    "    if len(r) > num_show_edge:\n",
    "        selected_drug_pair_index = np.random.choice(len(r), num_show_edge, replace=False).tolist()\n",
    "    else:\n",
    "        selected_drug_pair_index = list(range(len(r)))\n",
    "        \n",
    "    for j in selected_drug_pair_index:\n",
    "        [x1, y1] = drug_embedded[r[j], :]\n",
    "        [x2, y2] = drug_embedded[c[j], :]\n",
    "        \n",
    "        plt.plot([x1, x2], [y1, y2], color=col[i], alpha=0.3, marker='*')\n",
    "    \n",
    "\n",
    "# setting\n",
    "plt.title(title)\n",
    "plt.grid()\n",
    "plt.savefig(\"Drug Embedding before training2.pdf\")\n",
    "plt.show()"
   ]
  },
  {
   "cell_type": "markdown",
   "metadata": {
    "pycharm": {}
   },
   "source": [
    "## 5. Save to Files"
   ]
  },
  {
   "cell_type": "markdown",
   "metadata": {
    "pycharm": {}
   },
   "source": [
    "### 5.1 save graph infomation - redundant"
   ]
  },
  {
   "cell_type": "code",
   "execution_count": null,
   "metadata": {
    "pycharm": {
     "is_executing": false
    }
   },
   "outputs": [],
   "source": [
    "import pickle\n"
   ]
  },
  {
   "cell_type": "code",
   "execution_count": null,
   "metadata": {
    "pycharm": {
     "is_executing": false,
     "metadata": false,
     "name": "#%% \n"
    }
   },
   "outputs": [],
   "source": [
    "# index saver\n",
    "with open('./data_decagon/edge_type_to_old.pkl', 'wb') as f:\n",
    "    pickle.dump(edge_type_to_old, f)\n",
    "with open('./data_decagon/drug_to_old', 'wb') as f:\n",
    "    pickle.dump(drug_to_old, f)\n"
   ]
  },
  {
   "cell_type": "code",
   "execution_count": null,
   "metadata": {
    "pycharm": {}
   },
   "outputs": [],
   "source": [
    "with open('data_decagon/graph_num_info.pkl', 'wb') as f:\n",
    "    pickle.dump([num_gene, num_drug, num_edge_type, num_drug_additional_feature], f)\n",
    "\n"
   ]
  },
  {
   "cell_type": "markdown",
   "metadata": {
    "pycharm": {}
   },
   "source": [
    "### 5.2 save sparse matrix - redundant"
   ]
  },
  {
   "cell_type": "code",
   "execution_count": null,
   "metadata": {
    "pycharm": {}
   },
   "outputs": [],
   "source": [
    "# gene-gene adj\n",
    "sp.save_npz(\"data_decagon/gene-sparse-adj.npz\", gene_adj)\n",
    "\n",
    "# gene-drug adj\n",
    "sp.save_npz(\"data_decagon/drug-gene-sparse-adj.npz\", drug_gene_adj)\n",
    "sp.save_npz(\"data_decagon/gene-drug-sparse-adj.npz\", gene_drug_adj)\n",
    "\n",
    "# drug-drug adj\n",
    "for i in range(num_edge_type):\n",
    "    sp.save_npz(\"\".join([\"data_decagon/drug-sparse-adj/type_\", str(i), \".npz\"]), drug_drug_adj_list[i])\n",
    "    "
   ]
  },
  {
   "cell_type": "markdown",
   "metadata": {
    "pycharm": {}
   },
   "source": [
    "### 5.3 save drug sparse feature vectors - redundant"
   ]
  },
  {
   "cell_type": "code",
   "execution_count": null,
   "metadata": {
    "pycharm": {}
   },
   "outputs": [],
   "source": [
    "# drug feature vector\n",
    "sp.save_npz(\"data_decagon/drug-feature-sparse.npz\", drug_feat_sparse)\n"
   ]
  },
  {
   "cell_type": "markdown",
   "metadata": {},
   "source": [
    "### 6.0 build full drug graph"
   ]
  },
  {
   "cell_type": "code",
   "execution_count": null,
   "metadata": {},
   "outputs": [],
   "source": [
    "import threading"
   ]
  },
  {
   "cell_type": "code",
   "execution_count": null,
   "metadata": {},
   "outputs": [],
   "source": [
    "class AtomicInteger():\n",
    "    def __init__(self, value=0):\n",
    "        self._value = int(value)\n",
    "        self._lock = threading.Lock()\n",
    "        \n",
    "    def inc(self, d=1):\n",
    "        with self._lock:\n",
    "            self._value += int(d)\n",
    "            return self._value\n",
    "\n",
    "    def dec(self, d=1):\n",
    "        return self.inc(-d)    \n",
    "\n",
    "    @property\n",
    "    def value(self):\n",
    "        with self._lock:\n",
    "            return self._value\n",
    "\n",
    "    @value.setter\n",
    "    def value(self, v):\n",
    "        with self._lock:\n",
    "            self._value = int(v)\n",
    "            return self._value\n",
    "\n",
    "atomic_int=AtomicInteger()"
   ]
  },
  {
   "cell_type": "code",
   "execution_count": null,
   "metadata": {},
   "outputs": [],
   "source": [
    "import networkx as nx\n",
    "\n",
    "gene_net = nx.from_numpy_matrix(gene_adj.todense())\n",
    "# wir muessen hier noch noch den nodes sagen, dass sie gene sind"
   ]
  },
  {
   "cell_type": "code",
   "execution_count": null,
   "metadata": {},
   "outputs": [],
   "source": [
    "net_list = []\n",
    "atomic_int=AtomicInteger()\n",
    "\n",
    "for i in range(len(drug_drug_adj_list)):\n",
    "    temp_net = nx.from_numpy_matrix(drug_drug_adj_list[i].todense())\n",
    "    if temp_net.size()>=500:\n",
    "        G=nx.MultiGraph()\n",
    "        G.add_nodes_from(temp_net)\n",
    "        for edge in list(temp_net.edges):\n",
    "            G.add_edge(edge[0],edge[1],label=\"test_\" + str(i),key=atomic_int.inc())\n",
    "        net_list.append(G)"
   ]
  },
  {
   "cell_type": "markdown",
   "metadata": {},
   "source": [
    "super time costly !!!"
   ]
  },
  {
   "cell_type": "code",
   "execution_count": null,
   "metadata": {},
   "outputs": [],
   "source": [
    "full_drug_graph = nx.compose_all(net_list)\n",
    "#nx.write_gpickle(full_drug_graph,\"full_drug_graph.pkl\")"
   ]
  },
  {
   "cell_type": "markdown",
   "metadata": {},
   "source": [
    "better:"
   ]
  },
  {
   "cell_type": "code",
   "execution_count": null,
   "metadata": {},
   "outputs": [],
   "source": [
    "import networkx as nx\n",
    "full_drug_graph=nx.read_gpickle(\"full_drug_graph.pkl\")"
   ]
  },
  {
   "cell_type": "code",
   "execution_count": null,
   "metadata": {},
   "outputs": [],
   "source": [
    "full_drug_graph.size()"
   ]
  },
  {
   "cell_type": "code",
   "execution_count": null,
   "metadata": {},
   "outputs": [],
   "source": [
    "type(full_drug_graph)"
   ]
  },
  {
   "cell_type": "code",
   "execution_count": null,
   "metadata": {},
   "outputs": [],
   "source": [
    "from stellargraph import StellarGraph\n",
    "\n",
    "drug_graph = StellarGraph.from_networkx(full_drug_graph)"
   ]
  },
  {
   "cell_type": "code",
   "execution_count": null,
   "metadata": {
    "scrolled": true
   },
   "outputs": [],
   "source": [
    "print(drug_graph.info())"
   ]
  },
  {
   "cell_type": "markdown",
   "metadata": {},
   "source": [
    "### 7.0 Link prediction"
   ]
  },
  {
   "cell_type": "code",
   "execution_count": null,
   "metadata": {},
   "outputs": [],
   "source": [
    "epochs = 300\n",
    "embedding_dimension = 100\n",
    "negative_samples = 2000"
   ]
  },
  {
   "cell_type": "code",
   "execution_count": null,
   "metadata": {
    "tags": []
   },
   "outputs": [],
   "source": [
    "import pandas as pd\n",
    "\n",
    "\n",
    "df = pd.DataFrame(list(drug_graph.edges(include_edge_type=True)))\n",
    "df.columns = ['source','target', 'label']\n",
    "df = df[['source', 'label', 'target']]\n",
    "print(df)"
   ]
  },
  {
   "cell_type": "code",
   "execution_count": null,
   "metadata": {},
   "outputs": [],
   "source": [
    "#Counter(df.label)"
   ]
  },
  {
   "cell_type": "code",
   "execution_count": null,
   "metadata": {},
   "outputs": [],
   "source": [
    "from sklearn.model_selection import train_test_split\n",
    "drug_train, drug_temp = train_test_split(df, test_size=0.3, random_state=42,stratify=df.label)\n",
    "\n",
    "drug_test, drug_valid = train_test_split(drug_temp, test_size=0.5, random_state=42,stratify=drug_temp.label)\n",
    "\n",
    "drug_train.reset_index(drop=True, inplace=True)\n",
    "drug_test.reset_index(drop=True, inplace=True)\n",
    "drug_valid.reset_index(drop=True, inplace=True)"
   ]
  },
  {
   "cell_type": "code",
   "execution_count": null,
   "metadata": {},
   "outputs": [],
   "source": [
    "from stellargraph import datasets, utils\n",
    "from tensorflow.keras import callbacks, optimizers, losses, metrics, regularizers, Model\n",
    "from stellargraph.mapper import KGTripleGenerator\n",
    "from stellargraph.layer import DistMult\n",
    "\n",
    "\n",
    "# Train model\n",
    "drug_gen = KGTripleGenerator(\n",
    "    drug_graph, batch_size=len(drug_train) // 10  # ~10 batches per epoch\n",
    ")\n",
    "\n",
    "drug_distmult = DistMult(\n",
    "    drug_gen,\n",
    "    embedding_dimension=embedding_dimension,\n",
    "    embeddings_regularizer=regularizers.l2(1e-7),\n",
    ")\n",
    "\n",
    "drug_inp, drug_out = drug_distmult.in_out_tensors()\n",
    "\n",
    "drug_model = Model(inputs=drug_inp, outputs=drug_out)\n",
    "\n",
    "drug_model.compile(\n",
    "    optimizer=optimizers.Adam(lr=0.001),\n",
    "    loss=losses.BinaryCrossentropy(from_logits=True),\n",
    "    metrics=[metrics.BinaryAccuracy(threshold=0.0)],\n",
    ")"
   ]
  },
  {
   "cell_type": "code",
   "execution_count": null,
   "metadata": {},
   "outputs": [],
   "source": [
    "drug_train_gen = drug_gen.flow(drug_train, negative_samples=negative_samples, shuffle=True)\n",
    "drug_valid_gen = drug_gen.flow(drug_valid, negative_samples=negative_samples)"
   ]
  },
  {
   "cell_type": "code",
   "execution_count": null,
   "metadata": {},
   "outputs": [],
   "source": [
    "#computative intensive!!!\n",
    "\n",
    "drug_es = callbacks.EarlyStopping(monitor=\"val_loss\", patience=50)\n",
    "drug_history = drug_model.fit(\n",
    "    drug_train_gen,\n",
    "    validation_data=drug_valid_gen,\n",
    "    epochs=epochs,\n",
    "    callbacks=[drug_es],\n",
    "    verbose=1,\n",
    ")"
   ]
  },
  {
   "cell_type": "code",
   "execution_count": null,
   "metadata": {},
   "outputs": [],
   "source": [
    "utils.plot_history(drug_history)"
   ]
  },
  {
   "cell_type": "code",
   "execution_count": null,
   "metadata": {},
   "outputs": [],
   "source": [
    "#evalulate model\n",
    "drug_smaller_gen = KGTripleGenerator(drug_graph, batch_size=5000)\n",
    "\n",
    "drug_raw_ranks, drug_filtered_ranks = drug_distmult.rank_edges_against_all_nodes(drug_smaller_gen.flow(drug_test), drug_graph)"
   ]
  },
  {
   "cell_type": "code",
   "execution_count": null,
   "metadata": {},
   "outputs": [],
   "source": [
    "# helper function to compute metrics from an array of ranks\n",
    "def results_as_dataframe(mrr, hits_at_10, hits_at_1):\n",
    "    return pd.DataFrame(\n",
    "        [(mrr, hits_at_10, hits_at_1)], columns=[\"mrr\", \"hits at 10\", \"hits at 1\"], index=[\"filtered\"],\n",
    "    )\n",
    "\n",
    "\n",
    "def summarise(ranks):\n",
    "    return results_as_dataframe(np.mean(1 / ranks), np.mean(ranks <= 10), np.mean(ranks <= 1))"
   ]
  },
  {
   "cell_type": "code",
   "execution_count": null,
   "metadata": {},
   "outputs": [],
   "source": [
    "summarise(drug_filtered_ranks)"
   ]
  },
  {
   "cell_type": "code",
   "execution_count": null,
   "metadata": {},
   "outputs": [],
   "source": [
    "0.034777\t0.072666\t0.007877"
   ]
  },
  {
   "cell_type": "markdown",
   "metadata": {},
   "source": [
    "### additional embeddings"
   ]
  },
  {
   "cell_type": "code",
   "execution_count": null,
   "metadata": {},
   "outputs": [],
   "source": [
    "#TODO: https://stellargraph.readthedocs.io/en/stable/api.html#knowledge-graph-models\n",
    "\n",
    "from stellargraph.layer import ComplEx\n",
    "\n",
    "# Train model\n",
    "drug_gen = KGTripleGenerator(\n",
    "    drug_graph, batch_size=len(drug_train) // 10  # ~10 batches per epoch\n",
    ")\n",
    "\n",
    "drug_ComplEx = ComplEx(\n",
    "    drug_gen,\n",
    "    embedding_dimension=embedding_dimension,\n",
    "    embeddings_regularizer=regularizers.l2(1e-7),\n",
    ")\n",
    "\n",
    "drug_inp, drug_out = drug_ComplEx.in_out_tensors()\n",
    "\n",
    "drug_model = Model(inputs=drug_inp, outputs=drug_out)\n",
    "\n",
    "drug_model.compile(\n",
    "    optimizer=optimizers.Adam(lr=0.0001),\n",
    "    loss=losses.BinaryCrossentropy(from_logits=True),\n",
    "    metrics=[metrics.BinaryAccuracy(threshold=0.0)],\n",
    ")"
   ]
  },
  {
   "cell_type": "code",
   "execution_count": null,
   "metadata": {},
   "outputs": [],
   "source": [
    "drug_train_gen = drug_gen.flow(drug_train, negative_samples=negative_samples, shuffle=True)\n",
    "drug_valid_gen = drug_gen.flow(drug_valid, negative_samples=negative_samples)\n",
    "\n",
    "drug_es = callbacks.EarlyStopping(monitor=\"val_loss\", patience=50)\n",
    "drug_history = drug_model.fit(\n",
    "    drug_train_gen,\n",
    "    validation_data=drug_valid_gen,\n",
    "    epochs=epochs,\n",
    "    callbacks=[drug_es],\n",
    "    verbose=1,\n",
    ")"
   ]
  },
  {
   "cell_type": "code",
   "execution_count": null,
   "metadata": {},
   "outputs": [],
   "source": [
    "utils.plot_history(drug_history)"
   ]
  },
  {
   "cell_type": "code",
   "execution_count": null,
   "metadata": {},
   "outputs": [],
   "source": []
  },
  {
   "cell_type": "code",
   "execution_count": null,
   "metadata": {},
   "outputs": [],
   "source": [
    "from stellargraph.layer import RotatE\n",
    "\n",
    "# Train model\n",
    "drug_gen = KGTripleGenerator(\n",
    "    drug_graph, batch_size=len(drug_train) // 10  # ~10 batches per epoch\n",
    ")\n",
    "\n",
    "drug_RotatE = RotatE(\n",
    "    drug_gen,\n",
    "    embedding_dimension=embedding_dimension,\n",
    "    embeddings_regularizer=regularizers.l2(1e-7),\n",
    ")\n",
    "\n",
    "drug_inp, drug_out = drug_RotatE.in_out_tensors()\n",
    "\n",
    "drug_model = Model(inputs=drug_inp, outputs=drug_out)\n",
    "\n",
    "drug_model.compile(\n",
    "    optimizer=optimizers.Adam(lr=0.001),\n",
    "    loss=losses.BinaryCrossentropy(from_logits=True),\n",
    "    metrics=[metrics.BinaryAccuracy(threshold=0.0)],\n",
    ")"
   ]
  },
  {
   "cell_type": "code",
   "execution_count": null,
   "metadata": {},
   "outputs": [],
   "source": [
    "drug_train_gen = drug_gen.flow(drug_train, negative_samples=negative_samples, shuffle=True)\n",
    "drug_valid_gen = drug_gen.flow(drug_valid, negative_samples=negative_samples)\n",
    "\n",
    "drug_es = callbacks.EarlyStopping(monitor=\"val_loss\", patience=50)\n",
    "drug_history = drug_model.fit(\n",
    "    drug_train_gen,\n",
    "    validation_data=drug_valid_gen,\n",
    "    epochs=epochs,\n",
    "    callbacks=[drug_es],\n",
    "    verbose=1,\n",
    ")"
   ]
  },
  {
   "cell_type": "code",
   "execution_count": null,
   "metadata": {},
   "outputs": [],
   "source": [
    "utils.plot_history(drug_history)"
   ]
  },
  {
   "cell_type": "code",
   "execution_count": null,
   "metadata": {},
   "outputs": [],
   "source": [
    "#evalulate model\n",
    "drug_smaller_gen = KGTripleGenerator(drug_graph, batch_size=5000)\n",
    "\n",
    "drug_raw_ranks, drug_filtered_ranks = drug_RotatE.rank_edges_against_all_nodes(drug_smaller_gen.flow(drug_test), drug_graph)\n",
    "\n",
    "summarise(drug_filtered_ranks)"
   ]
  },
  {
   "cell_type": "code",
   "execution_count": null,
   "metadata": {},
   "outputs": [],
   "source": []
  },
  {
   "cell_type": "code",
   "execution_count": null,
   "metadata": {},
   "outputs": [],
   "source": [
    "from stellargraph.layer import Node2Vec"
   ]
  },
  {
   "cell_type": "code",
   "execution_count": null,
   "metadata": {},
   "outputs": [],
   "source": [
    "from stellargraph.layer import Node2Vec\n",
    "from stellargraph.mapper import Node2VecLinkGenerator, Node2VecNodeGenerator\n",
    "\n",
    "batch_size=8\n",
    "\n",
    "# Train model\n",
    "drug_gen = KGTripleGenerator(\n",
    "    drug_graph, batch_size=len(drug_train) // 10  # ~10 batches per epoch\n",
    ")\n",
    "\n",
    "# Define a Node2Vec training generator, which generates batches of training pairs\n",
    "generator = Node2VecLinkGenerator(drug_graph, batch_size)\n",
    "\n",
    "# Create the Node2Vec model\n",
    "node2vec = Node2Vec(embedding_dimension, generator=generator)\n",
    "\n",
    "drug_inp, drug_out = node2vec.in_out_tensors()\n",
    "\n",
    "drug_model = Model(inputs=drug_inp, outputs=drug_out)\n",
    "\n",
    "drug_model.compile(\n",
    "    optimizer=optimizers.Adam(lr=0.001),\n",
    "    loss=losses.BinaryCrossentropy(from_logits=True),\n",
    "    metrics=[metrics.BinaryAccuracy(threshold=0.0)],\n",
    ")"
   ]
  },
  {
   "cell_type": "code",
   "execution_count": null,
   "metadata": {},
   "outputs": [],
   "source": [
    "drug_train_gen = drug_gen.flow(drug_train, negative_samples=negative_samples, shuffle=True)\n",
    "drug_valid_gen = drug_gen.flow(drug_valid, negative_samples=negative_samples)\n",
    "\n",
    "#drug_es = callbacks.EarlyStopping(monitor=\"val_loss\", patience=50)\n",
    "#drug_history = drug_model.fit(\n",
    "#    drug_train_gen,\n",
    "#    validation_data=drug_valid_gen,\n",
    "#    epochs=epochs,\n",
    "#    callbacks=[drug_es],\n",
    "#    verbose=1,\n",
    "#)"
   ]
  },
  {
   "cell_type": "code",
   "execution_count": null,
   "metadata": {},
   "outputs": [],
   "source": [
    "utils.plot_history(drug_history)"
   ]
  },
  {
   "cell_type": "code",
   "execution_count": null,
   "metadata": {},
   "outputs": [],
   "source": []
  }
 ],
 "metadata": {
  "kernelspec": {
   "display_name": "Python 3",
   "language": "python",
   "name": "python3"
  },
  "language_info": {
   "codemirror_mode": {
    "name": "ipython",
    "version": 3
   },
   "file_extension": ".py",
   "mimetype": "text/x-python",
   "name": "python",
   "nbconvert_exporter": "python",
   "pygments_lexer": "ipython3",
   "version": "3.7.9"
  },
  "pycharm": {
   "stem_cell": {
    "cell_type": "raw",
    "metadata": {
     "collapsed": false
    },
    "source": []
   }
  }
 },
 "nbformat": 4,
 "nbformat_minor": 1
}
