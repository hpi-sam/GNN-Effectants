{
 "cells": [
  {
   "cell_type": "code",
   "execution_count": null,
   "metadata": {
    "collapsed": false
   },
   "outputs": [],
   "source": [
    "from utility import *\n",
    "\n",
    "from collections import Counter\n",
    "from scipy.stats import ks_2samp\n",
    "\n",
    "import matplotlib.pyplot as plt\n",
    "import numpy as np\n",
    "import random\n",
    "import pandas as pd\n",
    "import seaborn as sns\n",
    "\n",
    "%matplotlib inline"
   ]
  },
  {
   "cell_type": "markdown",
   "metadata": {},
   "source": [
    "# Dataset Loading"
   ]
  },
  {
   "cell_type": "markdown",
   "metadata": {},
   "source": [
    "The data sets needed for the loaders can be found at snap.stanford.edu/decagon. The side effect information was curated from the TWOSIDES, OFFSIDES, and Sider databases."
   ]
  },
  {
   "cell_type": "code",
   "execution_count": null,
   "metadata": {
    "collapsed": false
   },
   "outputs": [],
   "source": [
    "combo2stitch, combo2se, se2name = load_combo_se()\n",
    "net, node2idx = load_ppi()\n",
    "stitch2se, se2name_mono = load_mono_se()\n",
    "stitch2proteins = load_targets(fname='../data/bio-decagon-targets-all.csv')\n",
    "se2class, se2name_class = load_categories()\n",
    "se2name.update(se2name_mono)\n",
    "se2name.update(se2name_class)"
   ]
  },
  {
   "cell_type": "markdown",
   "metadata": {},
   "source": [
    "# Basic Statistics"
   ]
  },
  {
   "cell_type": "markdown",
   "metadata": {},
   "source": [
    "## How many side effects does each drug combination have?"
   ]
  },
  {
   "cell_type": "code",
   "execution_count": null,
   "metadata": {
    "collapsed": true
   },
   "outputs": [],
   "source": [
    "def plot_distribution(dist, title=\"\", x_label=\"\", y_label=\"\", file_name=None):\n",
    "    plt.figure(figsize=(6, 3.5))\n",
    "    sns.set_context(\"paper\", font_scale=1.8)\n",
    "    sns.set_style('ticks')\n",
    "    sns.set_style({\"xtick.direction\": \"in\", \"ytick.direction\": \"in\"})\n",
    "    sns.distplot(dist, kde=False, color=sns.xkcd_rgb['red'], bins=20, hist_kws={\"alpha\" : 1})\n",
    "    plt.xlabel(x_label)\n",
    "    plt.title(title)\n",
    "    plt.tight_layout()\n",
    "    plt.gcf().subplots_adjust(left=0.2, right=0.8, top=0.8, bottom=0.2)\n",
    "    plt.ylabel(y_label)\n",
    "    if file_name:\n",
    "        plt.savefig(file_name)\n"
   ]
  },
  {
   "cell_type": "code",
   "execution_count": null,
   "metadata": {
    "collapsed": false,
    "scrolled": true
   },
   "outputs": [],
   "source": [
    "distribution_combos = [len(combo2se[combo]) for combo in combo2se]\n",
    "print(\"Median number of side effects per drug combination\", np.median(distribution_combos))\n",
    "plot_distribution(distribution_combos, \"\", \"Number of Side Effects\", \"Number of \\n Drug Combinations\", \"\")"
   ]
  },
  {
   "cell_type": "markdown",
   "metadata": {},
   "source": [
    "## How frequent are different side effects?"
   ]
  },
  {
   "cell_type": "code",
   "execution_count": null,
   "metadata": {
    "collapsed": false
   },
   "outputs": [],
   "source": [
    "from IPython.display import display, HTML\n",
    "\n",
    "def get_se_counter(se_map):\n",
    "    side_effects = []\n",
    "    for drug in se_map:\n",
    "        side_effects += list(set(se_map[drug]))\n",
    "    return Counter(side_effects)\n",
    "\n",
    "combo_counter = get_se_counter(combo2se)\n",
    "\n",
    "print(\"Most common side effects in drug combinations:\")\n",
    "common_se = []\n",
    "common_se_counts = []\n",
    "common_se_names = []\n",
    "for se, count in combo_counter.most_common(20):\n",
    "    common_se += [se]\n",
    "    common_se_counts += [count]\n",
    "    common_se_names += [se2name[se]]\n",
    "df = pd.DataFrame(data={\"Side Effect\": common_se, \"Frequency in Drug Combos\": common_se_counts, \"Name\": common_se_names})  \n",
    "display(df)"
   ]
  },
  {
   "cell_type": "markdown",
   "metadata": {},
   "source": [
    "### Plot of Side Effect Frequency"
   ]
  },
  {
   "cell_type": "code",
   "execution_count": null,
   "metadata": {
    "collapsed": false,
    "tags": []
   },
   "outputs": [],
   "source": [
    "keys, values = zip(*combo_counter.items())\n",
    "\n",
    "plot_distribution(np.log10(np.asarray(list(values))), \"\",  \"Log(Number of Drug Combinations)\", \"Number of Side Effects\", file_name=\"se_combodist.pdf\")"
   ]
  },
  {
   "cell_type": "markdown",
   "metadata": {},
   "source": [
    "# Side Effect Cooccurrence in Drug Combinations"
   ]
  },
  {
   "cell_type": "code",
   "execution_count": null,
   "metadata": {
    "collapsed": true
   },
   "outputs": [],
   "source": [
    "combos = combo2se.keys()\n",
    "combo_probability_distribution = np.asarray([len(combo2se[combo])*1.0 for combo in combo2se])\n",
    "combo_probability_distribution = combo_probability_distribution/np.sum(combo_probability_distribution)\n",
    "\n",
    "se2combo = defaultdict(set)\n",
    "for combo in combo2se:\n",
    "    for se in combo2se[combo]:\n",
    "        se2combo[se].add(combo)\n"
   ]
  },
  {
   "cell_type": "markdown",
   "metadata": {},
   "source": [
    "We observe that polypharmacy side effects do not appear independently of one another in co-prescribed drug pairs (\\ie, drug combinations), suggesting that joint modeling over multiple side effects can aid in the prediction task. To quantify the co-occurrence between side effects, we count the number of drug combinations in which a given side effect co-occurs with other side effects, and then use permutation testing with a null model of random co-occurrence. As exemplified for hypertension and nausea below, we find that the majority of the most common side effects are either significantly overrepresented or underrepresented with respect to how often they co-occur with nausea/hypertension as side effects in drug combinations, at $\\alpha=0.05$. "
   ]
  },
  {
   "cell_type": "code",
   "execution_count": null,
   "metadata": {
    "collapsed": false
   },
   "outputs": [],
   "source": [
    "# Permutation test testing the significancy between the drug combinations a side effect occurs in,\n",
    "# as compared to other common side effects\n",
    "def run_permutation_test(se_oi, num_permutations = 2000):\n",
    "    se_oi_combos = se2combo[se_oi]\n",
    "    side_effects = []\n",
    "    names = []\n",
    "    real_overlaps = []\n",
    "    mean_permuted_overlap = []\n",
    "    probabilities = []\n",
    "    for se, count in combo_counter.most_common(51):\n",
    "        if se == se_oi:\n",
    "            continue\n",
    "        real_combos = se2combo[se]\n",
    "        real_overlap = len(real_combos.intersection(se_oi_combos))\n",
    "        permuted_overlaps = []\n",
    "        for i in range(num_permutations):\n",
    "            combo_sample = np.random.choice(combos, len(real_combos), replace=False, p=combo_probability_distribution)\n",
    "            permuted_overlaps += [len(se_oi_combos.intersection(set(combo_sample)))]\n",
    "        probability = np.sum(np.asarray(permuted_overlaps) >= real_overlap)*1.0/num_permutations\n",
    "        side_effects += [se]\n",
    "        names += [se2name[se]]\n",
    "        real_overlaps += [real_overlap]\n",
    "        mean_permuted_overlap += [np.mean(permuted_overlaps)]\n",
    "        probabilities += [probability]\n",
    "    df = pd.DataFrame(data={\"Side Effect\": side_effects, \"True Overlap\": real_overlaps, \"Mean Permuted Overlap\": mean_permuted_overlap, \"Probability True < Permuted\": probabilities, \"Name\": names})  \n",
    "    df = df[['Side Effect', 'Name', 'True Overlap', 'Mean Permuted Overlap', 'Probability True < Permuted']]\n",
    "    display(df)"
   ]
  },
  {
   "cell_type": "code",
   "execution_count": null,
   "metadata": {
    "collapsed": false
   },
   "outputs": [],
   "source": [
    "# For hypertension\n",
    "run_permutation_test('C0020538')"
   ]
  },
  {
   "cell_type": "code",
   "execution_count": null,
   "metadata": {
    "collapsed": false
   },
   "outputs": [],
   "source": [
    "# For nausea\n",
    "run_permutation_test('C0027497')"
   ]
  },
  {
   "cell_type": "markdown",
   "metadata": {},
   "source": [
    "# How similar are the drug target profiles of drug combinations?"
   ]
  },
  {
   "cell_type": "markdown",
   "metadata": {},
   "source": [
    "Third, we probe the relationship between proteins targeted by a drug pair and occurrence of side effects. Let $T_i$ represent a set of target proteins associated with drug $i$, we then calculate the Jaccard similarity between target proteins of a given drug pair $(i,j)$ as: $\\text{Jaccard}(i,j) = |T_i \\cap T_j|/|T_i \\cup T_j|$.  \n",
    "We see most drug combinations have zero target proteins in common, random drug pairs have smaller overlap in targeted proteins than co-prescribed drugs, andthat this trend is unequally observed across different side effects. "
   ]
  },
  {
   "cell_type": "code",
   "execution_count": null,
   "metadata": {
    "collapsed": false
   },
   "outputs": [],
   "source": [
    "def jaccard(set1, set2):\n",
    "    num = len(set(set1).intersection(set(set2)))\n",
    "    den = len(set(set1).union(set(set2)))\n",
    "    return num*1.0/den\n",
    "\n",
    "# Only examining those drugs we have drug target information for\n",
    "valid = []\n",
    "for stitch in stitch2se:\n",
    "    if len(stitch2proteins[stitch]) > 0:\n",
    "        valid += [stitch]\n",
    "        \n",
    "# Jaccard similarity between drug target profiles of drugs in drug combinations\n",
    "jaccard_combos = {}\n",
    "for combo in combo2se:\n",
    "    stitch1, stitch2 = combo2stitch[combo]\n",
    "    if stitch1 in valid and stitch2 in valid:\n",
    "        jaccard_combos[combo] = jaccard(stitch2proteins[stitch1], stitch2proteins[stitch2])\n",
    "        \n",
    "# Jaccard similarity between drug target profiles of random drugs\n",
    "jaccard_random = []\n",
    "for i in range(len(jaccard_random)):\n",
    "    stitch1 = np.random.choice(valid, 1, replace=False)[0]\n",
    "    stitch2 =  np.random.choice(valid, 1, replace=False)[0]\n",
    "    jaccard_random += [jaccard(stitch2proteins[stitch1], stitch2proteins[stitch2])] \n",
    "jaccard_random = np.asarray(jaccard_random)"
   ]
  },
  {
   "cell_type": "code",
   "execution_count": null,
   "metadata": {
    "collapsed": false
   },
   "outputs": [],
   "source": [
    "import pandas as pd\n",
    "\n",
    "def plot_jaccard_distribution_multiple(ses):\n",
    "    group_names = {'Random drug pairs': jaccard_random, 'All drug combinations': np.asarray([jaccard_combos[combo] for combo in jaccard_combos])}\n",
    "    order = ['Random drug pairs', 'All drug combinations'] + [nicknames[se] for se in ses]\n",
    "    for se in ses:\n",
    "        se_combos = se2combo[se].intersection(set(jaccard_combos.keys()))\n",
    "        in_jaccard = np.asarray([jaccard_combos[combo] for combo in se_combos])\n",
    "        group_name = nicknames[se]\n",
    "        group_names[group_name] = in_jaccard\n",
    "    categories = {'No shared drug targets': (-.01, 0), 'Fewer than 50% shared': (0, 0.5), 'More than 50% shared':(0.5, 1)}\n",
    "    groups, similarities, fractions = [], [], []\n",
    "    for name in group_names:\n",
    "        arr = group_names[name]\n",
    "        for category in categories: \n",
    "            min_val, max_val = categories[category]\n",
    "            value = np.sum((arr > min_val) * (arr <= max_val))*1.0/len(arr)\n",
    "            groups += [name]\n",
    "            similarities += [category]\n",
    "            fractions += [value]\n",
    "    data = pd.DataFrame({ '' : groups, 'Jaccard Similarity Between Drug Target Profiles': similarities, 'Fraction of Drug Combinations': fractions})\n",
    "    plt.figure(figsize=(3, 5))\n",
    "    sns.set_context(\"paper\", font_scale=6)\n",
    "    sns.set_style('ticks')\n",
    "    sns.set_style({\"xtick.direction\": \"in\", \"ytick.direction\": \"in\"})\n",
    "    g = sns.factorplot(x=\"Jaccard Similarity Between Drug Target Profiles\", y=\"Fraction of Drug Combinations\", hue=\"\", data=data,\n",
    "                   size=18, kind=\"bar\", palette=['#535456', '#9ea3a8', '#3478e5', '#e74c3c', '#2ecc71', '#cc6c18', '#9b59b6',], order=['No shared drug targets','Fewer than 50% shared','More than 50% shared'], hue_order=order)\n",
    "    plt.tight_layout()\n",
    "    plt.xlabel('')\n",
    "    plt.savefig('multiple_dist.pdf')\n"
   ]
  },
  {
   "cell_type": "code",
   "execution_count": null,
   "metadata": {
    "collapsed": false
   },
   "outputs": [],
   "source": [
    "nicknames = {'C0035522': 'Rib fracture', 'C0001339': 'Acute pancreatitis', 'C0010200': 'Cough', 'C0021390': 'Inflammatory bowel disease', 'C0020538': 'High blood pressure'}\n",
    "\n",
    "plot_jaccard_distribution_multiple(['C0035522', 'C0001339',  'C0010200', 'C0021390', 'C0020538'])"
   ]
  },
  {
   "cell_type": "code",
   "execution_count": null,
   "metadata": {
    "collapsed": true
   },
   "outputs": [],
   "source": [
    "import matplotlib.pyplot as plt\n",
    "\n",
    "nx.draw_networkx(net, with_labels=True, pos=nx.random_layout(net))\n",
    "\n",
    "plt.savefig(\"path.png\")"
   ]
  },
  {
   "cell_type": "code",
   "execution_count": null,
   "metadata": {},
   "outputs": [],
   "source": []
  }
 ],
 "metadata": {
  "kernelspec": {
   "name": "python3",
   "display_name": "Python 3.7.8 64-bit ('GNN': conda)",
   "metadata": {
    "interpreter": {
     "hash": "76f160b38a06debe0f395a50b19db85479bb41f58b8a8c11a9bd7c09ba8cbd29"
    }
   }
  },
  "language_info": {
   "codemirror_mode": {
    "name": "ipython",
    "version": 2
   },
   "file_extension": ".py",
   "mimetype": "text/x-python",
   "name": "python",
   "nbconvert_exporter": "python",
   "pygments_lexer": "ipython2",
   "version": "3.7.8-final"
  }
 },
 "nbformat": 4,
 "nbformat_minor": 0
}