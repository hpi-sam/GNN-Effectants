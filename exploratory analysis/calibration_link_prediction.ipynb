{
  "nbformat": 4,
  "nbformat_minor": 0,
  "metadata": {
    "file_extension": ".py",
    "kernelspec": {
      "display_name": "Python 3",
      "language": "python",
      "name": "python3"
    },
    "language_info": {
      "codemirror_mode": {
        "name": "ipython",
        "version": 3
      },
      "file_extension": ".py",
      "mimetype": "text/x-python",
      "name": "python",
      "nbconvert_exporter": "python",
      "pygments_lexer": "ipython3",
      "version": "3.7.5"
    },
    "mimetype": "text/x-python",
    "name": "python",
    "npconvert_exporter": "python",
    "pygments_lexer": "ipython3",
    "version": 3,
    "colab": {
      "name": "Copy of calibration-link-prediction.ipynb",
      "provenance": []
    }
  },
  "cells": [
    {
      "cell_type": "markdown",
      "metadata": {
        "id": "yl2M7ENr5VO9"
      },
      "source": [
        "# Calibrating a GraphSAGE link prediction model"
      ]
    },
    {
      "cell_type": "markdown",
      "metadata": {
        "nbsphinx": "hidden",
        "tags": [
          "CloudRunner"
        ],
        "id": "TQRYuaYM5VPF"
      },
      "source": [
        "<table><tr><td>Run the latest release of this notebook:</td><td><a href=\"https://mybinder.org/v2/gh/stellargraph/stellargraph/master?urlpath=lab/tree/demos/calibration/calibration-link-prediction.ipynb\" alt=\"Open In Binder\" target=\"_parent\"><img src=\"https://mybinder.org/badge_logo.svg\"/></a></td><td><a href=\"https://colab.research.google.com/github/stellargraph/stellargraph/blob/master/demos/calibration/calibration-link-prediction.ipynb\" alt=\"Open In Colab\" target=\"_parent\"><img src=\"https://colab.research.google.com/assets/colab-badge.svg\"/></a></td></tr></table>"
      ]
    },
    {
      "cell_type": "markdown",
      "metadata": {
        "id": "gDvwsS0B5VPG"
      },
      "source": [
        "In this example, we use our implementation of the [GraphSAGE](http://snap.stanford.edu/graphsage/) algorithm to build a model that predicts citation links in the PubMed-Diabetes dataset (see below). The problem is treated as a supervised link prediction problem on a homogeneous citation network with nodes representing papers (with attributes such as binary keyword indicators and categorical subject) and links corresponding to paper-paper citations. \n",
        "\n",
        "To address this problem, we build a model with the following architecture. First we build a two-layer GraphSAGE model that takes labeled `(paper1, paper2)` node pairs corresponding to possible citation links, and outputs a pair of node embeddings for the `paper1` and `paper2` nodes of the pair. These embeddings are then fed into a link classification layer, which first applies a binary operator to those node embeddings (e.g., concatenating them) to construct the embedding of the potential link. Thus obtained link embeddings are passed through the dense link classification layer to obtain link predictions - probability for these candidate links to actually exist in the network. The entire model is trained end-to-end by minimizing the loss function of choice (e.g., binary cross-entropy between predicted link probabilities and true link labels, with true/false citation links having labels 1/0) using stochastic gradient descent (SGD) updates of the model parameters, with minibatches of 'training' links fed into the model.\n",
        "\n",
        "Lastly, we investigate the nature of prediction probabilities. We want to know if GraphSAGE's prediction probabilities are well calibrated or not. In the latter case, we present two methods for calibrating the model's output.\n",
        "\n",
        "**References**\n",
        "\n",
        "1. Inductive Representation Learning on Large Graphs. W.L. Hamilton, R. Ying, and J. Leskovec arXiv:1706.02216 \n",
        "[cs.SI], 2017. ([link](http://snap.stanford.edu/graphsage/))\n",
        "\n",
        "2. On Calibration of Modern Neural Networks. C. Guo, G. Pleiss, Y. Sun, and K. Q. Weinberger. \n",
        "ICML 2017. ([link](https://geoffpleiss.com/nn_calibration))"
      ]
    },
    {
      "cell_type": "markdown",
      "metadata": {
        "id": "ZncUL_LS5VPG"
      },
      "source": [
        "## Loading the PubMed Diabetes network data"
      ]
    },
    {
      "cell_type": "code",
      "metadata": {
        "nbsphinx": "hidden",
        "tags": [
          "CloudRunner"
        ],
        "id": "ad2txEsa5VPH"
      },
      "source": [
        "# install StellarGraph if running on Google Colab\n",
        "import sys\n",
        "if 'google.colab' in sys.modules:\n",
        "  %pip install -q stellargraph[demos]==1.2.1"
      ],
      "execution_count": null,
      "outputs": []
    },
    {
      "cell_type": "code",
      "metadata": {
        "nbsphinx": "hidden",
        "tags": [
          "VersionCheck"
        ],
        "id": "lcHCKlGz5VPI"
      },
      "source": [
        "# verify that we're using the correct version of StellarGraph for this notebook\n",
        "import stellargraph as sg\n",
        "\n",
        "try:\n",
        "    sg.utils.validate_notebook_version(\"1.2.1\")\n",
        "except AttributeError:\n",
        "    raise ValueError(\n",
        "        f\"This notebook requires StellarGraph version 1.2.1, but a different version {sg.__version__} is installed.  Please see <https://github.com/stellargraph/stellargraph/issues/1172>.\"\n",
        "    ) from None"
      ],
      "execution_count": null,
      "outputs": []
    },
    {
      "cell_type": "code",
      "metadata": {
        "id": "1CKQvaHk5VPI"
      },
      "source": [
        "import networkx as nx\n",
        "import pandas as pd\n",
        "import numpy as np\n",
        "import itertools\n",
        "import os\n",
        "\n",
        "import matplotlib.pyplot as plt\n",
        "\n",
        "import stellargraph as sg\n",
        "from stellargraph.data import EdgeSplitter\n",
        "from stellargraph.mapper import GraphSAGELinkGenerator\n",
        "from stellargraph.layer import GraphSAGE, link_classification\n",
        "from stellargraph.calibration import expected_calibration_error, plot_reliability_diagram\n",
        "from stellargraph.calibration import IsotonicCalibration, TemperatureCalibration\n",
        "\n",
        "from tensorflow import keras\n",
        "from sklearn import preprocessing, feature_extraction, model_selection\n",
        "from sklearn.calibration import calibration_curve\n",
        "from sklearn.isotonic import IsotonicRegression\n",
        "\n",
        "from sklearn.metrics import accuracy_score\n",
        "\n",
        "from stellargraph import globalvar\n",
        "from stellargraph import datasets\n",
        "from IPython.display import display, HTML\n",
        "\n",
        "%matplotlib inline"
      ],
      "execution_count": null,
      "outputs": []
    },
    {
      "cell_type": "markdown",
      "metadata": {
        "id": "vxK2rOHh5VPJ"
      },
      "source": [
        "## Global parameters\n",
        "Specify the minibatch size (number of node pairs per minibatch) and the number of epochs for training the model:"
      ]
    },
    {
      "cell_type": "code",
      "metadata": {
        "tags": [
          "parameters"
        ],
        "id": "HgsMGbMl5VPJ"
      },
      "source": [
        "batch_size = 50\n",
        "epochs = 20  # The number of training epochs for training the GraphSAGE model.\n",
        "\n",
        "# train, test, validation split\n",
        "train_size = 0.2\n",
        "test_size = 0.15\n",
        "val_size = 0.2"
      ],
      "execution_count": null,
      "outputs": []
    },
    {
      "cell_type": "markdown",
      "metadata": {
        "id": "qDXO18zQ5VPK"
      },
      "source": [
        "## Loading the PubMed Diabetes network data"
      ]
    },
    {
      "cell_type": "markdown",
      "metadata": {
        "tags": [
          "DataLoadingLinks"
        ],
        "id": "wc6sa_7u5VPK"
      },
      "source": [
        "(See [the \"Loading from Pandas\" demo](../basics/loading-pandas.ipynb) for details on how data can be loaded.)"
      ]
    },
    {
      "cell_type": "code",
      "metadata": {
        "tags": [
          "DataLoading"
        ],
        "id": "HrhbI8665VPK",
        "outputId": "b159c93a-861c-4dbb-cc0c-e1c33421f650"
      },
      "source": [
        "# dataset = datasets.PubMedDiabetes()\n",
        "# display(HTML(dataset.description))\n",
        "# G, _subjects = dataset.load()\n",
        "\n",
        "StellarGraph(\n",
        "    edges=square_edges_types, edge_type_column=\"orientation\"\n",
        ")"
      ],
      "execution_count": null,
      "outputs": [
        {
          "output_type": "display_data",
          "data": {
            "text/html": [
              "The PubMed Diabetes dataset consists of 19717 scientific publications from PubMed database pertaining to diabetes classified into one of three classes. The citation network consists of 44338 links. Each publication in the dataset is described by a TF/IDF weighted word vector from a dictionary which consists of 500 unique words."
            ],
            "text/plain": [
              "<IPython.core.display.HTML object>"
            ]
          },
          "metadata": {
            "tags": []
          }
        }
      ]
    },
    {
      "cell_type": "code",
      "metadata": {
        "id": "D5r9ju_S5VPM",
        "outputId": "8351d4ed-165b-462e-9028-348b3267654b"
      },
      "source": [
        "print(G.info())"
      ],
      "execution_count": null,
      "outputs": [
        {
          "output_type": "stream",
          "text": [
            "StellarGraph: Undirected multigraph\n",
            " Nodes: 19717, Edges: 44338\n",
            "\n",
            " Node types:\n",
            "  paper: [19717]\n",
            "    Features: float32 vector, length 500\n",
            "    Edge types: paper-cites->paper\n",
            "\n",
            " Edge types:\n",
            "    paper-cites->paper: [44338]\n",
            "        Weights: all 1 (default)\n",
            "        Features: none\n"
          ],
          "name": "stdout"
        }
      ]
    },
    {
      "cell_type": "markdown",
      "metadata": {
        "id": "IwDloHmg5VPM"
      },
      "source": [
        "We aim to train a link prediction model, hence we need to prepare the train and test sets of links and the corresponding graphs with those links removed.\n",
        "\n",
        "We are going to split our input graph into a train and test graphs using the EdgeSplitter class in `stellargraph.data`. We will use the train graph for training the model (a binary classifier that, given two nodes, predicts whether a link between these two nodes should exist or not) and the test graph for evaluating the model's performance on hold out data.\n",
        "Each of these graphs will have the same number of nodes as the input graph, but the number of links will differ (be reduced) as some of the links will be removed during each split and used as the positive samples for training/testing the link prediction classifier."
      ]
    },
    {
      "cell_type": "markdown",
      "metadata": {
        "id": "bdokdOvP5VPN"
      },
      "source": [
        "From the original graph G, extract a randomly sampled subset of validation edges (true and false citation links) and the reduced graph G_test with the positive test edges removed:"
      ]
    },
    {
      "cell_type": "code",
      "metadata": {
        "id": "bALiDkCl5VPO",
        "outputId": "1fc37f50-2c20-4d91-d0f9-a90101d05095"
      },
      "source": [
        "# Define an edge splitter on the original graph G:\n",
        "edge_splitter_test = EdgeSplitter(G)\n",
        "\n",
        "# Randomly sample a fraction p=0.1 of all positive links, and same number of negative links, from G, and obtain the\n",
        "# reduced graph G_test with the sampled links removed:\n",
        "G_test, edge_ids_test, edge_labels_test = edge_splitter_test.train_test_split(\n",
        "    p=test_size, method=\"global\", keep_connected=True\n",
        ")"
      ],
      "execution_count": null,
      "outputs": [
        {
          "output_type": "stream",
          "text": [
            "** Sampled 6650 positive and 6650 negative edges. **\n"
          ],
          "name": "stdout"
        }
      ]
    },
    {
      "cell_type": "markdown",
      "metadata": {
        "id": "Eo6FL8Pf5VPO"
      },
      "source": [
        "The reduced graph G_test, together with the test ground truth set of links (edge_ids_test, edge_labels_test), will be used for testing the model.\n",
        "\n",
        "Now repeat this procedure to obtain the validation data for the model. From the reduced graph G_test, extract a randomly sampled subset of validation edges (true and false citation links) and the reduced graph G_val with the positive train edges removed:"
      ]
    },
    {
      "cell_type": "code",
      "metadata": {
        "id": "bMq1ZKPf5VPP",
        "outputId": "faf574cf-7994-43e5-9713-53ab855c40fe"
      },
      "source": [
        "# Define an edge splitter on the reduced graph G_test:\n",
        "edge_splitter_val = EdgeSplitter(G_test)\n",
        "\n",
        "# Randomly sample a fraction p=0.1 of all positive links, and same number of negative links, from G_test, and obtain the\n",
        "# reduced graph G_train with the sampled links removed:\n",
        "G_val, edge_ids_val, edge_labels_val = edge_splitter_val.train_test_split(\n",
        "    p=val_size, method=\"global\", keep_connected=True\n",
        ")"
      ],
      "execution_count": null,
      "outputs": [
        {
          "output_type": "stream",
          "text": [
            "** Sampled 7537 positive and 7537 negative edges. **\n"
          ],
          "name": "stdout"
        }
      ]
    },
    {
      "cell_type": "markdown",
      "metadata": {
        "id": "SOk71Yin5VPP"
      },
      "source": [
        "The reduced graph G_val, together with the validation ground truth set of links (edge_ids_val, edge_labels_val), will be used for validating the model (can also be used to tune the model parameters).\n",
        "\n",
        "Now repeat this procedure to obtain the training data for the model. From the reduced graph G_val, extract a randomly sampled subset of train edges (true and false citation links) and the reduced graph G_train with the positive train edges removed:"
      ]
    },
    {
      "cell_type": "code",
      "metadata": {
        "id": "rA09yJWS5VPQ",
        "outputId": "f5f5be77-cabd-4d5b-9ca1-c0763e3cd986"
      },
      "source": [
        "# Define an edge splitter on the reduced graph G_test:\n",
        "edge_splitter_train = EdgeSplitter(G_val)\n",
        "\n",
        "# Randomly sample a fraction p=0.1 of all positive links, and same number of negative links, from G_test, and obtain the\n",
        "# reduced graph G_train with the sampled links removed:\n",
        "G_train, edge_ids_train, edge_labels_train = edge_splitter_train.train_test_split(\n",
        "    p=train_size, method=\"global\", keep_connected=True\n",
        ")"
      ],
      "execution_count": null,
      "outputs": [
        {
          "output_type": "stream",
          "text": [
            "** Sampled 6030 positive and 6030 negative edges. **\n"
          ],
          "name": "stdout"
        }
      ]
    },
    {
      "cell_type": "markdown",
      "metadata": {
        "id": "K_NeigZP5VPQ"
      },
      "source": [
        "G_train, together with the train ground truth set of links (edge_ids_train, edge_labels_train), will be used for training the model."
      ]
    },
    {
      "cell_type": "markdown",
      "metadata": {
        "id": "Ytk-K3qg5VPR"
      },
      "source": [
        "Summary of G_train, G_val and G_test - note that they have the same set of nodes, only differing in their edge sets:"
      ]
    },
    {
      "cell_type": "code",
      "metadata": {
        "id": "agXKw48f5VPR",
        "outputId": "3edff841-3729-4386-9723-928e53b38702"
      },
      "source": [
        "print(G_train.info())"
      ],
      "execution_count": null,
      "outputs": [
        {
          "output_type": "stream",
          "text": [
            "StellarGraph: Undirected multigraph\n",
            " Nodes: 19717, Edges: 24121\n",
            "\n",
            " Node types:\n",
            "  paper: [19717]\n",
            "    Features: float32 vector, length 500\n",
            "    Edge types: paper-cites->paper\n",
            "\n",
            " Edge types:\n",
            "    paper-cites->paper: [24121]\n",
            "        Weights: all 1 (default)\n",
            "        Features: none\n"
          ],
          "name": "stdout"
        }
      ]
    },
    {
      "cell_type": "code",
      "metadata": {
        "id": "RKGJ8k_I5VPR",
        "outputId": "2bee046f-8611-41fb-b819-ad546cac3562"
      },
      "source": [
        "print(G_val.info())"
      ],
      "execution_count": null,
      "outputs": [
        {
          "output_type": "stream",
          "text": [
            "StellarGraph: Undirected multigraph\n",
            " Nodes: 19717, Edges: 30151\n",
            "\n",
            " Node types:\n",
            "  paper: [19717]\n",
            "    Features: float32 vector, length 500\n",
            "    Edge types: paper-cites->paper\n",
            "\n",
            " Edge types:\n",
            "    paper-cites->paper: [30151]\n",
            "        Weights: all 1 (default)\n",
            "        Features: none\n"
          ],
          "name": "stdout"
        }
      ]
    },
    {
      "cell_type": "code",
      "metadata": {
        "id": "AMf0Hf3z5VPS",
        "outputId": "504ce459-726f-4e79-c5c2-8b75a289027d"
      },
      "source": [
        "print(G_test.info())"
      ],
      "execution_count": null,
      "outputs": [
        {
          "output_type": "stream",
          "text": [
            "StellarGraph: Undirected multigraph\n",
            " Nodes: 19717, Edges: 37688\n",
            "\n",
            " Node types:\n",
            "  paper: [19717]\n",
            "    Features: float32 vector, length 500\n",
            "    Edge types: paper-cites->paper\n",
            "\n",
            " Edge types:\n",
            "    paper-cites->paper: [37688]\n",
            "        Weights: all 1 (default)\n",
            "        Features: none\n"
          ],
          "name": "stdout"
        }
      ]
    },
    {
      "cell_type": "markdown",
      "metadata": {
        "id": "eORjpTW25VPS"
      },
      "source": [
        "Next, we create the link generators for sampling and streaming train and test link examples to the model. The link generators essentially \"map\" pairs of nodes `(paper1, paper2)` to the input of GraphSAGE: they take minibatches of node pairs, sample 2-hop subgraphs with `(paper1, paper2)` head nodes extracted from those pairs, and feed them, together with the corresponding binary labels indicating whether those pairs represent true or false citation links, to the input layer of the GraphSAGE model, for SGD updates of the model parameters."
      ]
    },
    {
      "cell_type": "markdown",
      "metadata": {
        "id": "JLqDh3c95VPT"
      },
      "source": [
        "\n",
        "\n",
        "Specify the sizes of 1- and 2-hop neighbour samples for GraphSAGE:\n",
        "\n",
        "Note that the length of `num_samples` list defines the number of layers/iterations in the GraphSAGE model. In this example, we are defining a 2-layer GraphSAGE model."
      ]
    },
    {
      "cell_type": "code",
      "metadata": {
        "id": "s0yeJqti5VPT"
      },
      "source": [
        "num_samples = [10, 5]"
      ],
      "execution_count": null,
      "outputs": []
    },
    {
      "cell_type": "code",
      "metadata": {
        "id": "r-i9XPWo5VPT"
      },
      "source": [
        "train_gen = GraphSAGELinkGenerator(G_train, batch_size, num_samples)\n",
        "val_gen = GraphSAGELinkGenerator(G_val, batch_size, num_samples)\n",
        "test_gen = GraphSAGELinkGenerator(G_test, batch_size, num_samples)"
      ],
      "execution_count": null,
      "outputs": []
    },
    {
      "cell_type": "markdown",
      "metadata": {
        "id": "tl8ZvXsB5VPU"
      },
      "source": [
        "\n",
        "GraphSAGE part of the model, with hidden layer sizes of 50 for both GraphSAGE layers, a bias term, and dropout.\n",
        "\n",
        "Note that the length of layer_sizes list must be equal to the length of `num_samples`, as `len(num_samples)` defines the number of hops (layers) in the GraphSAGE model."
      ]
    },
    {
      "cell_type": "code",
      "metadata": {
        "id": "gC12supp5VPU"
      },
      "source": [
        "layer_sizes = [32, 32]\n",
        "graphsage = GraphSAGE(\n",
        "    layer_sizes=layer_sizes, generator=train_gen, bias=True, dropout=0.2\n",
        ")"
      ],
      "execution_count": null,
      "outputs": []
    },
    {
      "cell_type": "code",
      "metadata": {
        "id": "5Xn9I3aU5VPU"
      },
      "source": [
        "# Build the model and expose input and output sockets of graphsage, for node pair inputs:\n",
        "x_inp, x_out = graphsage.in_out_tensors()"
      ],
      "execution_count": null,
      "outputs": []
    },
    {
      "cell_type": "markdown",
      "metadata": {
        "id": "5zQLWLn_5VPV"
      },
      "source": [
        "Final link classification layer that takes a pair of node embeddings produced by GraphSAGE, applies a binary operator to them to produce the corresponding link embedding (`ip` for inner product; other options for the binary operator can be seen by running a cell with `?link_classification` in it), and passes it through a dense layer:"
      ]
    },
    {
      "cell_type": "code",
      "metadata": {
        "id": "W1-ZPU8O5VPV",
        "outputId": "03fcbc78-6ddc-41d9-f1a0-f347bdcdac2c"
      },
      "source": [
        "logits = link_classification(\n",
        "    output_dim=1, output_act=\"linear\", edge_embedding_method=\"ip\"\n",
        ")(x_out)\n",
        "\n",
        "prediction = keras.layers.Activation(keras.activations.sigmoid)(logits)"
      ],
      "execution_count": null,
      "outputs": [
        {
          "output_type": "stream",
          "text": [
            "link_classification: using 'ip' method to combine node embeddings into edge embeddings\n"
          ],
          "name": "stdout"
        }
      ]
    },
    {
      "cell_type": "markdown",
      "metadata": {
        "id": "AcLM13-K5VPV"
      },
      "source": [
        "Stack the GraphSAGE and prediction layers into a Keras model, and specify the loss"
      ]
    },
    {
      "cell_type": "code",
      "metadata": {
        "id": "eGLuEuLC5VPW"
      },
      "source": [
        "model = keras.Model(inputs=x_inp, outputs=prediction)\n",
        "\n",
        "model.compile(\n",
        "    optimizer=keras.optimizers.Adam(lr=1e-3),\n",
        "    loss=keras.losses.binary_crossentropy,\n",
        "    metrics=[keras.metrics.binary_accuracy],\n",
        ")"
      ],
      "execution_count": null,
      "outputs": []
    },
    {
      "cell_type": "markdown",
      "metadata": {
        "id": "sQUzGmcR5VPW"
      },
      "source": [
        "Evaluate the initial (untrained) model on the train, val and test sets:"
      ]
    },
    {
      "cell_type": "code",
      "metadata": {
        "id": "5EnZoaYU5VPW"
      },
      "source": [
        "train_flow = train_gen.flow(edge_ids_train, edge_labels_train, shuffle=True)\n",
        "val_flow = val_gen.flow(edge_ids_val, edge_labels_val)\n",
        "test_flow = test_gen.flow(edge_ids_test, edge_labels_test)"
      ],
      "execution_count": null,
      "outputs": []
    },
    {
      "cell_type": "code",
      "metadata": {
        "id": "2BsZJs-f5VPW",
        "outputId": "e77529d4-cea8-4304-c926-9ff8b9605ba6"
      },
      "source": [
        "init_train_metrics = model.evaluate(train_flow)\n",
        "init_val_metrics = model.evaluate(val_flow)\n",
        "init_test_metrics = model.evaluate(test_flow)\n",
        "\n",
        "print(\"\\nTrain Set Metrics of the initial (untrained) model:\")\n",
        "for name, val in zip(model.metrics_names, init_train_metrics):\n",
        "    print(\"\\t{}: {:0.4f}\".format(name, val))\n",
        "\n",
        "print(\"\\nValidation Set Metrics of the initial (untrained) model:\")\n",
        "for name, val in zip(model.metrics_names, init_val_metrics):\n",
        "    print(\"\\t{}: {:0.4f}\".format(name, val))\n",
        "\n",
        "print(\"\\nTest Set Metrics of the initial (untrained) model:\")\n",
        "for name, val in zip(model.metrics_names, init_test_metrics):\n",
        "    print(\"\\t{}: {:0.4f}\".format(name, val))"
      ],
      "execution_count": null,
      "outputs": [
        {
          "output_type": "stream",
          "text": [
            "242/242 [==============================] - 10s 42ms/step - loss: 0.6927 - binary_accuracy: 0.5013\n",
            "302/302 [==============================] - 12s 41ms/step - loss: 0.6910 - binary_accuracy: 0.5014\n",
            "266/266 [==============================] - 11s 42ms/step - loss: 0.6897 - binary_accuracy: 0.5023 5s - loss: 0.4428 - bi\n",
            "\n",
            "Train Set Metrics of the initial (untrained) model:\n",
            "\tloss: 0.6927\n",
            "\tbinary_accuracy: 0.5013\n",
            "\n",
            "Validation Set Metrics of the initial (untrained) model:\n",
            "\tloss: 0.6910\n",
            "\tbinary_accuracy: 0.5014\n",
            "\n",
            "Test Set Metrics of the initial (untrained) model:\n",
            "\tloss: 0.6897\n",
            "\tbinary_accuracy: 0.5023\n"
          ],
          "name": "stdout"
        }
      ]
    },
    {
      "cell_type": "markdown",
      "metadata": {
        "id": "B7NwWqFK5VPX"
      },
      "source": [
        "Train the model:"
      ]
    },
    {
      "cell_type": "code",
      "metadata": {
        "id": "hx7k__rE5VPX"
      },
      "source": [
        "history = model.fit(\n",
        "    train_flow, epochs=epochs, validation_data=val_flow, verbose=0, shuffle=True,\n",
        ")"
      ],
      "execution_count": null,
      "outputs": []
    },
    {
      "cell_type": "markdown",
      "metadata": {
        "id": "EWyUwPMD5VPX"
      },
      "source": [
        "Plot the training history:"
      ]
    },
    {
      "cell_type": "code",
      "metadata": {
        "id": "rMJq6hpQ5VPX",
        "outputId": "ee6adc8b-0593-4e77-eb42-10d9e978befa"
      },
      "source": [
        "sg.utils.plot_history(history)"
      ],
      "execution_count": null,
      "outputs": [
        {
          "output_type": "display_data",
          "data": {
            "image/png": "[encoded data removed]",
            "text/plain": [
              "<Figure size 504x576 with 2 Axes>"
            ]
          },
          "metadata": {
            "tags": [],
            "needs_background": "light"
          }
        }
      ]
    },
    {
      "cell_type": "markdown",
      "metadata": {
        "id": "Ra2ueGGq5VPY"
      },
      "source": [
        "Evaluate the trained model on test citation links:"
      ]
    },
    {
      "cell_type": "code",
      "metadata": {
        "id": "gVRsbxTQ5VPY",
        "outputId": "74d35b10-d5d5-4f2d-d10f-26edeef47e2c"
      },
      "source": [
        "train_metrics = model.evaluate(train_flow)\n",
        "val_metrics = model.evaluate(val_flow)\n",
        "test_metrics = model.evaluate(test_flow)\n",
        "\n",
        "print(\"\\nTrain Set Metrics of the trained model:\")\n",
        "for name, val in zip(model.metrics_names, train_metrics):\n",
        "    print(\"\\t{}: {:0.4f}\".format(name, val))\n",
        "\n",
        "print(\"\\nValidation Set Metrics of the trained model:\")\n",
        "for name, val in zip(model.metrics_names, val_metrics):\n",
        "    print(\"\\t{}: {:0.4f}\".format(name, val))\n",
        "\n",
        "print(\"\\nTest Set Metrics of the trained model:\")\n",
        "for name, val in zip(model.metrics_names, test_metrics):\n",
        "    print(\"\\t{}: {:0.4f}\".format(name, val))"
      ],
      "execution_count": null,
      "outputs": [
        {
          "output_type": "stream",
          "text": [
            "242/242 [==============================] - 9s 39ms/step - loss: 0.4645 - binary_accuracy: 0.8843\n",
            "302/302 [==============================] - 12s 38ms/step - loss: 0.5583 - binary_accuracy: 0.7356\n",
            "266/266 [==============================] - 10s 38ms/step - loss: 0.5583 - binary_accuracy: 0.7299 1s - loss: 0.5264 - binary_accuracy: 0.771 - ETA: 1s - loss: 0.5280 - binar - ETA: 0s - loss: 0.5542 - binary_accuracy: 0.\n",
            "\n",
            "Train Set Metrics of the trained model:\n",
            "\tloss: 0.4645\n",
            "\tbinary_accuracy: 0.8843\n",
            "\n",
            "Validation Set Metrics of the trained model:\n",
            "\tloss: 0.5583\n",
            "\tbinary_accuracy: 0.7356\n",
            "\n",
            "Test Set Metrics of the trained model:\n",
            "\tloss: 0.5583\n",
            "\tbinary_accuracy: 0.7299\n"
          ],
          "name": "stdout"
        }
      ]
    },
    {
      "cell_type": "code",
      "metadata": {
        "id": "M2tcNR0n5VPY"
      },
      "source": [
        "num_tests = 1  # the number of times to generate predictions"
      ],
      "execution_count": null,
      "outputs": []
    },
    {
      "cell_type": "code",
      "metadata": {
        "id": "_6-EYSMd5VPZ",
        "outputId": "d9b390ba-4089-43c8-c07c-71141cc2943f"
      },
      "source": [
        "all_test_predictions = [\n",
        "    model.predict(test_flow, verbose=True) for _ in np.arange(num_tests)\n",
        "]"
      ],
      "execution_count": null,
      "outputs": [
        {
          "output_type": "stream",
          "text": [
            "266/266 [==============================] - 12s 45ms/step\n"
          ],
          "name": "stdout"
        }
      ]
    },
    {
      "cell_type": "markdown",
      "metadata": {
        "id": "vbq5hfws5VPZ"
      },
      "source": [
        "## Diagnosing model miscalibration\n",
        "\n",
        "We are going to use method from scikit-learn.calibration module to calibrate the binary classifier."
      ]
    },
    {
      "cell_type": "code",
      "metadata": {
        "id": "t8Zn9Srz5VPZ"
      },
      "source": [
        "calibration_data = [\n",
        "    calibration_curve(\n",
        "        y_prob=test_predictions, y_true=edge_labels_test, n_bins=10, normalize=True\n",
        "    )\n",
        "    for test_predictions in all_test_predictions\n",
        "]"
      ],
      "execution_count": null,
      "outputs": []
    },
    {
      "cell_type": "markdown",
      "metadata": {
        "id": "BFxuWvr05VPa"
      },
      "source": [
        "Let' calculate the expected calibration error on the test set before calibration."
      ]
    },
    {
      "cell_type": "code",
      "metadata": {
        "id": "RpZjDQ7L5VPa",
        "outputId": "9c6ff761-7e0f-4aac-cefa-ce7509661cb5"
      },
      "source": [
        "for fraction_of_positives, mean_predicted_value in calibration_data:\n",
        "    ece_pre_calibration = expected_calibration_error(\n",
        "        prediction_probabilities=all_test_predictions[0],\n",
        "        accuracy=fraction_of_positives,\n",
        "        confidence=mean_predicted_value,\n",
        "    )\n",
        "    print(\"ECE: (before calibration) {:.4f}\".format(ece_pre_calibration))"
      ],
      "execution_count": null,
      "outputs": [
        {
          "output_type": "stream",
          "text": [
            "ECE: (before calibration) 0.3758\n"
          ],
          "name": "stdout"
        }
      ]
    },
    {
      "cell_type": "markdown",
      "metadata": {
        "id": "ipCe53Sc5VPa"
      },
      "source": [
        "Now let's plot the reliability diagram. This is a visual aid for the diagnosis of a poorly calibrated binary classifier."
      ]
    },
    {
      "cell_type": "code",
      "metadata": {
        "id": "n1QJLElk5VPa",
        "outputId": "1c1f4bac-54c5-4ec8-8496-e165c218b354"
      },
      "source": [
        "plot_reliability_diagram(\n",
        "    calibration_data, np.array(all_test_predictions[0]), ece=[ece_pre_calibration]\n",
        ")"
      ],
      "execution_count": null,
      "outputs": [
        {
          "output_type": "display_data",
          "data": {
            "image/png": "[encoded data removed]",
            "text/plain": [
              "<Figure size 864x576 with 2 Axes>"
            ]
          },
          "metadata": {
            "tags": [],
            "needs_background": "light"
          }
        }
      ]
    },
    {
      "cell_type": "markdown",
      "metadata": {
        "id": "ClVRS3y-5VPb"
      },
      "source": [
        "## Model Calibration \n",
        "\n",
        "Next, we are going to use our validation set to calibrate the model.\n",
        "\n",
        "We will consider two different approaches for calibrating a binary classifier, Platt scaling and Isotonic regression.\n",
        "\n",
        "## Platt Scaling\n",
        "\n",
        "$q_i = \\sigma(\\alpha z_i+\\beta)$ where $z_i$ is the GraphSAGE output (before the last layer's activation function is applied), $q_i$ is the calibrated probability, and $\\sigma()$ is the sigmoid function. \n",
        "\n",
        "$\\alpha$ and $\\beta$ are the model's trainable parameters.\n",
        "\n",
        "For more information see:\n",
        "- https://en.wikipedia.org/wiki/Platt_scaling\n",
        "\n",
        "## Isotonic Regression\n",
        "\n",
        "Isotonic Regression is a regression technique that fits a piece-wise, non-decreasing, linear function to data. For more information see:\n",
        "- https://scikit-learn.org/stable/modules/generated/sklearn.isotonic.IsotonicRegression.html#sklearn.isotonic.IsotonicRegression\n",
        "- https://en.wikipedia.org/wiki/Isotonic_regression"
      ]
    },
    {
      "cell_type": "markdown",
      "metadata": {
        "id": "ovOWZm3d5VPb"
      },
      "source": [
        "Select the calibration method."
      ]
    },
    {
      "cell_type": "code",
      "metadata": {
        "id": "gljwwHzz5VPb"
      },
      "source": [
        "use_platt = False  # True for Platt scaling or False for Isotonic Regression"
      ],
      "execution_count": null,
      "outputs": []
    },
    {
      "cell_type": "markdown",
      "metadata": {
        "id": "5ZKASs285VPc"
      },
      "source": [
        "For simplicity, we are going to calibrate using a single prediction per query point."
      ]
    },
    {
      "cell_type": "code",
      "metadata": {
        "id": "I4z70f7h5VPc"
      },
      "source": [
        "num_tests = 1"
      ],
      "execution_count": null,
      "outputs": []
    },
    {
      "cell_type": "code",
      "metadata": {
        "id": "tXQ1sq4x5VPc"
      },
      "source": [
        "score_model = keras.Model(inputs=x_inp, outputs=logits)"
      ],
      "execution_count": null,
      "outputs": []
    },
    {
      "cell_type": "code",
      "metadata": {
        "id": "9AvFwyhB5VPd",
        "outputId": "9c551662-ad11-4da4-daf3-e154c38d55e7"
      },
      "source": [
        "if use_platt:\n",
        "    all_val_score_predictions = [\n",
        "        score_model.predict(val_flow, verbose=True) for _ in np.arange(num_tests)\n",
        "    ]\n",
        "    all_test_score_predictions = [\n",
        "        score_model.predict(test_flow, verbose=True) for _ in np.arange(num_tests)\n",
        "    ]\n",
        "    all_test_probabilistic_predictions = [\n",
        "        model.predict(test_flow, verbose=True) for _ in np.arange(num_tests)\n",
        "    ]\n",
        "else:\n",
        "    all_val_score_predictions = [\n",
        "        model.predict(val_flow, verbose=True) for _ in np.arange(num_tests)\n",
        "    ]\n",
        "    all_test_probabilistic_predictions = [\n",
        "        model.predict(test_flow, verbose=True) for _ in np.arange(num_tests)\n",
        "    ]"
      ],
      "execution_count": null,
      "outputs": [
        {
          "output_type": "stream",
          "text": [
            "302/302 [==============================] - 12s 38ms/step\n",
            "266/266 [==============================] - 11s 40ms/step\n"
          ],
          "name": "stdout"
        }
      ]
    },
    {
      "cell_type": "code",
      "metadata": {
        "id": "ZdUfAXKX5VPd",
        "outputId": "fdae02a2-b392-4815-bbd1-ab293eb2565a"
      },
      "source": [
        "val_predictions = np.mean(np.array(all_val_score_predictions), axis=0)\n",
        "val_predictions.shape"
      ],
      "execution_count": null,
      "outputs": [
        {
          "output_type": "execute_result",
          "data": {
            "text/plain": [
              "(15074, 1)"
            ]
          },
          "metadata": {
            "tags": []
          },
          "execution_count": 33
        }
      ]
    },
    {
      "cell_type": "code",
      "metadata": {
        "id": "gXPGY5Ag5VPe"
      },
      "source": [
        "# These are the uncalibrated prediction probabilities.\n",
        "if use_platt:\n",
        "    test_predictions = np.mean(np.array(all_test_score_predictions), axis=0)\n",
        "    test_predictions.shape\n",
        "else:\n",
        "    test_predictions = np.mean(np.array(all_test_probabilistic_predictions), axis=0)\n",
        "    test_predictions.shape"
      ],
      "execution_count": null,
      "outputs": []
    },
    {
      "cell_type": "code",
      "metadata": {
        "id": "Fwdvj0pw5VPe"
      },
      "source": [
        "if use_platt:\n",
        "    # for binary classification this class performs Platt Scaling\n",
        "    lr = TemperatureCalibration()\n",
        "else:\n",
        "    lr = IsotonicCalibration()"
      ],
      "execution_count": null,
      "outputs": []
    },
    {
      "cell_type": "code",
      "metadata": {
        "id": "2UDIWtEa5VPe",
        "outputId": "e2a77220-423a-4868-b455-49f60a49d181"
      },
      "source": [
        "val_predictions.shape, edge_labels_val.shape"
      ],
      "execution_count": null,
      "outputs": [
        {
          "output_type": "execute_result",
          "data": {
            "text/plain": [
              "((15074, 1), (15074,))"
            ]
          },
          "metadata": {
            "tags": []
          },
          "execution_count": 36
        }
      ]
    },
    {
      "cell_type": "code",
      "metadata": {
        "id": "8OQRP6-M5VPf"
      },
      "source": [
        "lr.fit(val_predictions, edge_labels_val)"
      ],
      "execution_count": null,
      "outputs": []
    },
    {
      "cell_type": "code",
      "metadata": {
        "id": "aBVt81nj5VPf"
      },
      "source": [
        "lr_test_predictions = lr.predict(test_predictions)"
      ],
      "execution_count": null,
      "outputs": []
    },
    {
      "cell_type": "code",
      "metadata": {
        "id": "V9ZuIYMT5VPf",
        "outputId": "11c924cc-c644-4342-bc16-8f34f92ecb7f"
      },
      "source": [
        "lr_test_predictions.shape"
      ],
      "execution_count": null,
      "outputs": [
        {
          "output_type": "execute_result",
          "data": {
            "text/plain": [
              "(13300, 1)"
            ]
          },
          "metadata": {
            "tags": []
          },
          "execution_count": 39
        }
      ]
    },
    {
      "cell_type": "markdown",
      "metadata": {
        "id": "_KjBV0Iy5VPf"
      },
      "source": [
        "Let's check if these predictions are calibrated!\n",
        "\n",
        "If calibration is successful then the ECE after calibration will be lower and the calibration curve will track the ideal diagonal line more closely."
      ]
    },
    {
      "cell_type": "code",
      "metadata": {
        "scrolled": true,
        "id": "vv0UJdQW5VPg"
      },
      "source": [
        "calibration_data = [\n",
        "    calibration_curve(\n",
        "        y_prob=lr_test_predictions, y_true=edge_labels_test, n_bins=10, normalize=True\n",
        "    )\n",
        "]"
      ],
      "execution_count": null,
      "outputs": []
    },
    {
      "cell_type": "code",
      "metadata": {
        "id": "tukQRAcm5VPg",
        "outputId": "e7317f5a-a70c-4df8-ce7b-85d7ecb9023f"
      },
      "source": [
        "for fraction_of_positives, mean_predicted_value in calibration_data:\n",
        "    ece_post_calibration = expected_calibration_error(\n",
        "        prediction_probabilities=lr_test_predictions,\n",
        "        accuracy=fraction_of_positives,\n",
        "        confidence=mean_predicted_value,\n",
        "    )\n",
        "    print(\"ECE (after calibration): {:.4f}\".format(ece_post_calibration))"
      ],
      "execution_count": null,
      "outputs": [
        {
          "output_type": "stream",
          "text": [
            "ECE (after calibration): 0.0174\n"
          ],
          "name": "stdout"
        }
      ]
    },
    {
      "cell_type": "code",
      "metadata": {
        "id": "h56QiZup5VPg",
        "outputId": "d1962f0e-8d2c-40b1-90b2-a2a701401847"
      },
      "source": [
        "plot_reliability_diagram(\n",
        "    calibration_data, lr_test_predictions, ece=[ece_post_calibration]\n",
        ")"
      ],
      "execution_count": null,
      "outputs": [
        {
          "output_type": "display_data",
          "data": {
            "image/png": "[encoded data removed]",
            "text/plain": [
              "<Figure size 864x576 with 2 Axes>"
            ]
          },
          "metadata": {
            "tags": [],
            "needs_background": "light"
          }
        }
      ]
    },
    {
      "cell_type": "markdown",
      "metadata": {
        "id": "FvQe69Mn5VPh"
      },
      "source": [
        "As a final test, check if the accuracy of the model changes after calibration."
      ]
    },
    {
      "cell_type": "code",
      "metadata": {
        "id": "2HoVmXej5VPh",
        "outputId": "a5a192ae-e879-4db8-c904-f59e477024f5"
      },
      "source": [
        "y_pred = np.zeros(len(test_predictions))\n",
        "if use_platt:\n",
        "    # the true predictions are the probabilistic outputs\n",
        "    test_predictions = np.mean(np.array(all_test_probabilistic_predictions), axis=0)\n",
        "y_pred[test_predictions.reshape(-1) > 0.5] = 1\n",
        "print(\n",
        "    \"Accuracy of model before calibration: {:.2f}\".format(\n",
        "        accuracy_score(y_pred=y_pred, y_true=edge_labels_test)\n",
        "    )\n",
        ")"
      ],
      "execution_count": null,
      "outputs": [
        {
          "output_type": "stream",
          "text": [
            "Accuracy of model before calibration: 0.73\n"
          ],
          "name": "stdout"
        }
      ]
    },
    {
      "cell_type": "code",
      "metadata": {
        "id": "B-5TqeAS5VPh",
        "outputId": "61d7b6e6-667d-4f95-e116-a5ef5f9ce8ed"
      },
      "source": [
        "y_pred = np.zeros(len(lr_test_predictions))\n",
        "y_pred[lr_test_predictions[:, 0] > 0.5] = 1\n",
        "print(\n",
        "    \"Accuracy for model after calibration: {:.2f}\".format(\n",
        "        accuracy_score(y_pred=y_pred, y_true=edge_labels_test)\n",
        "    )\n",
        ")"
      ],
      "execution_count": null,
      "outputs": [
        {
          "output_type": "stream",
          "text": [
            "Accuracy for model after calibration: 0.83\n"
          ],
          "name": "stdout"
        }
      ]
    },
    {
      "cell_type": "markdown",
      "metadata": {
        "id": "aLGE4g6M5VPi"
      },
      "source": [
        "## Conclusion\n",
        "\n",
        "This notebook demonstrated how to use Platt scaling and isotonic regression to calibrate a GraphSAGE model used for link prediction in a paper citation network. Importantly, it showed that using calibration can improve the classification model's accuracy."
      ]
    },
    {
      "cell_type": "markdown",
      "metadata": {
        "nbsphinx": "hidden",
        "tags": [
          "CloudRunner"
        ],
        "id": "KqwptAJj5VPi"
      },
      "source": [
        "<table><tr><td>Run the latest release of this notebook:</td><td><a href=\"https://mybinder.org/v2/gh/stellargraph/stellargraph/master?urlpath=lab/tree/demos/calibration/calibration-link-prediction.ipynb\" alt=\"Open In Binder\" target=\"_parent\"><img src=\"https://mybinder.org/badge_logo.svg\"/></a></td><td><a href=\"https://colab.research.google.com/github/stellargraph/stellargraph/blob/master/demos/calibration/calibration-link-prediction.ipynb\" alt=\"Open In Colab\" target=\"_parent\"><img src=\"https://colab.research.google.com/assets/colab-badge.svg\"/></a></td></tr></table>"
      ]
    }
  ]
}